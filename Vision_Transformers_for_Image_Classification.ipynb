{
  "nbformat": 4,
  "nbformat_minor": 0,
  "metadata": {
    "colab": {
      "provenance": [],
      "authorship_tag": "ABX9TyNPmCTWceo386UyHPD3NGI8",
      "include_colab_link": true
    },
    "kernelspec": {
      "name": "python3",
      "display_name": "Python 3"
    },
    "language_info": {
      "name": "python"
    }
  },
  "cells": [
    {
      "cell_type": "markdown",
      "metadata": {
        "id": "view-in-github",
        "colab_type": "text"
      },
      "source": [
        "<a href=\"https://colab.research.google.com/github/abenfaddoul/Image-Classification-in-E-Commerce/blob/main/Vision_Transformers_for_Image_Classification.ipynb\" target=\"_parent\"><img src=\"https://colab.research.google.com/assets/colab-badge.svg\" alt=\"Open In Colab\"/></a>"
      ]
    },
    {
      "cell_type": "markdown",
      "source": [
        "**Image Classification in E-Commerce:**\n",
        "\n",
        "```\n",
        "*Vision Transformers for Image Classification*\n",
        "We will work with the PyTorch library to build and train a vision transformer specifically for image classification tasks\n",
        "```\n",
        "\n",
        "\n"
      ],
      "metadata": {
        "id": "E4kENS-DeWgX"
      }
    },
    {
      "cell_type": "markdown",
      "source": [
        "Setup\n",
        "For this lab, we will be using the following libraries:\n",
        "\n",
        "**numpy** for mathematical and array operations.\n",
        "\n",
        "**sklearn** for machine learning and machine-learning-pipeline related functions.\n",
        "\n",
        "**torchvision** for deep learning and neural network-related functions.\n",
        "\n",
        "**torch** for multi-dimensional tensors and mathematical operations over tensors.\n",
        "\n",
        "**matplotlib** for additional plotting tools.\n",
        "\n",
        "**PIL** for loading images."
      ],
      "metadata": {
        "id": "YA9yEeoGe-nX"
      }
    },
    {
      "cell_type": "code",
      "execution_count": 2,
      "metadata": {
        "id": "03VeZjtQeUXd"
      },
      "outputs": [],
      "source": [
        "import os\n",
        "from PIL import Image\n",
        "import numpy as np\n",
        "## Imports for plotting\n",
        "import matplotlib.pyplot as plt\n",
        "import torch\n",
        "import torchvision\n",
        "from torchvision.datasets import CIFAR10\n",
        "from torchvision import transforms\n",
        "from torchvision.utils import make_grid\n",
        "import torch.nn as nn\n",
        "from torchvision import transforms\n",
        "from matplotlib.pyplot import figure\n",
        "from sklearn.manifold import TSNE\n",
        "from tqdm import tqdm\n",
        "\n",
        "import torch.optim as optim\n",
        "import torch.nn.functional as F\n",
        "from torch.optim.lr_scheduler import ExponentialLR"
      ]
    },
    {
      "cell_type": "code",
      "source": [
        "def plot_samples(dataset, size_even=6, classes=None):\n",
        "\n",
        "    size_even = 6  # Default number of samples to plot\n",
        "    dataset = train_set  # Default dataset to use (assuming 'train_set')\n",
        "    fig, axs = plt.subplots(2, int(size_even // 2))  # Create subplots for the samples\n",
        "\n",
        "    if classes is None:\n",
        "        classes = tuple([n for n in range(len(dataset))])  # Default class labels\n",
        "\n",
        "    n_samples = len(dataset)  # Total number of samples in the dataset\n",
        "\n",
        "    # Randomly select samples\n",
        "    samples = np.random.randint(0, high=n_samples - 1, size=int(size_even))\n",
        "\n",
        "    row = 0\n",
        "    col = 0\n",
        "    for n, sample in enumerate(samples):\n",
        "        img = dataset[sample][0]  # Get the image from the dataset\n",
        "        label = \"y={}\".format(classes[int(dataset[sample][1])])  # Get the label for the image\n",
        "\n",
        "        col = n\n",
        "\n",
        "        # Determine the row and column index for the current sample\n",
        "        if n > size_even / 2 - 1:\n",
        "            row = 1\n",
        "            col = n - int(size_even / 2)\n",
        "\n",
        "        # Display the image and label in the corresponding subplot\n",
        "        axs[row, col].imshow(make_grid(img, normalize=True).permute(1, 2, 0))\n",
        "        axs[row, col].set_title(label)\n",
        "        axs[row, col].axis('off')"
      ],
      "metadata": {
        "id": "Lq76v-udjTmR"
      },
      "execution_count": 6,
      "outputs": []
    },
    {
      "cell_type": "code",
      "source": [
        "def plot_image_patchs(patchs, seq=False):\n",
        "\n",
        "    if patchs.shape[-3] == 1:\n",
        "        patchs = patchs.repeat(1, 1, 3, 1, 1)  # Add 3 channel dimension if image is grayscale\n",
        "\n",
        "    N_patchs = patchs.shape[1]  # Number of image patches\n",
        "\n",
        "    plot_patchs = make_grid(patchs, normalize=True).permute(0, 2, 3, 1)  # Arrange patches for plotting\n",
        "\n",
        "    N_rows = int(np.sqrt(N_patchs))  # Number of rows for the grid plot\n",
        "\n",
        "    # Create subplots for the image patches\n",
        "    if seq:\n",
        "        fig, ax = plt.subplots(1, N_rows * N_rows, sharex='col', sharey='row', figsize=(25, 5))\n",
        "        fig.suptitle(\"Image as Sequence\")\n",
        "    else:\n",
        "        fig, ax = plt.subplots(N_rows, N_rows, sharex='col', sharey='row')\n",
        "        fig.suptitle(\"Image\")\n",
        "\n",
        "    i, j = 0, 0\n",
        "    for n in range(N_patchs):\n",
        "        if seq:\n",
        "            ax[n].imshow(plot_patchs[n])\n",
        "            ax[n].set_xlabel(str(n + 1))\n",
        "            ax[n].axes.xaxis.set_ticklabels([])\n",
        "            ax[n].axes.yaxis.set_ticklabels([])\n",
        "        else:\n",
        "            if n % N_rows == 0 and n != 0:\n",
        "                i += 1\n",
        "                j = 0\n",
        "\n",
        "            ax[i, j].imshow(plot_patchs[n])\n",
        "            ax[i, j].set_ylabel(str(n + 1))\n",
        "            ax[i, j].axes.xaxis.set_ticklabels([])\n",
        "            ax[i, j].axes.yaxis.set_ticklabels([])\n",
        "            j += 1\n",
        "\n",
        "    plt.show()\n"
      ],
      "metadata": {
        "id": "wh7c2_rWjf7Q"
      },
      "execution_count": 5,
      "outputs": []
    },
    {
      "cell_type": "code",
      "source": [
        "def plot_patchs_lables(X, y, label=True, p_show=0.5):\n",
        "    '''\n",
        "    The code implements a function for plotting t-SNE visualization of patches and their labels, with the option to label each point and control\n",
        "    the frequency of labeling for the sequence index.\n",
        "\n",
        "    X: This is a tensor representing the data to be plotted. It should have the shape (sample, patch, dim), where sample is the number of samples, patch is the size of each patch or sequence length, and dim is the number of features for each patch.\n",
        "    y: This is a tensor representing the labels for each sample. It should have the shape (sample, 1).\n",
        "    label: This is a boolean value that controls whether to label each data point in the plot. If label is set to True, each data point in the plot will be labeled.\n",
        "    p_show: This is a float value between 0 and 1 that controls the frequency of labeling for the sequence index. It specifies the probability of showing a label for each data point. For example, if p_show is set to 0.5, then approximately half of the data points will be labeled.\n",
        "    '''\n",
        "\n",
        "    # Detach X from its computational graph if it's not a leaf node\n",
        "    if not (X.is_leaf):\n",
        "        X = X.detach()\n",
        "\n",
        "    # Get the shape of the input tensor X\n",
        "    if X.shape[0] == 49:\n",
        "        sample = X.shape[1]\n",
        "        patch = X.shape[0]  # Patch size or sequence length\n",
        "        dim = X.shape[2]\n",
        "    if X.shape[0] == 1000:\n",
        "        sample = X.shape[0]\n",
        "        patch = X.shape[1]\n",
        "        dim = X.shape[2]\n",
        "\n",
        "    # Reshape X and convert it to a numpy array\n",
        "    X = X.reshape(sample * patch, dim).numpy()\n",
        "\n",
        "    # Flatten the y tensor and convert it to a numpy array to label each sequence\n",
        "    colors = y.repeat(patch, 1).T.flatten().numpy()\n",
        "\n",
        "    # Perform t-SNE on the X data\n",
        "    X_ = TSNE(n_components=2, learning_rate='auto', init='random').fit_transform(X)\n",
        "\n",
        "    # Create a scatter plot of the t-SNE transformed X data with each class labeled via color\n",
        "    fig, ax = plt.subplots()\n",
        "    for color in np.unique(colors):\n",
        "        temp = colors == color\n",
        "        ax.scatter(X_[temp, 0], X_[temp, 1], label=color)\n",
        "\n",
        "    # If the label argument is set to True, add labels to the scatter plot\n",
        "    if label:\n",
        "        for i, x in enumerate(X_):\n",
        "            # Label plots with a probability of p_show\n",
        "            if np.random.binomial(1, p_show, 1).item() == 1:\n",
        "                ax.annotate(str(i % patch), (x[0], x[1]))\n",
        "\n",
        "    # Add a legend to the scatter plot\n",
        "    ax.legend()"
      ],
      "metadata": {
        "id": "hx8F22zVjn7g"
      },
      "execution_count": 4,
      "outputs": []
    },
    {
      "cell_type": "code",
      "source": [
        "def img_to_patch(x, patch_size, flatten_channels=True):\n",
        "\n",
        "    B, C, H, W = x.shape\n",
        "    x = x.reshape(B, C, H//patch_size, patch_size, W//patch_size, patch_size)\n",
        "    x = x.permute(0, 2, 4, 1, 3, 5) # [B, H', W', C, p_H, p_W]\n",
        "    x = x.flatten(1,2)              # [B, H'*W', C, p_H, p_W]\n",
        "    if flatten_channels:\n",
        "        x = x.flatten(2,4)          # [B, H'*W', C*p_H*p_W]\n",
        "    return x"
      ],
      "metadata": {
        "id": "H7I6ojpqjuFA"
      },
      "execution_count": 3,
      "outputs": []
    },
    {
      "cell_type": "code",
      "source": [
        "BATCH_SIZE_TRAIN = 100\n",
        "BATCH_SIZE_TEST = 1000\n",
        "\n",
        "transform_mnist = torchvision.transforms.Compose([torchvision.transforms.ToTensor(),\n",
        "                               torchvision.transforms.Normalize((0.1307,), (0.3081,))])\n",
        "\n",
        "train_set = torchvision.datasets.MNIST(root='.',train=True, download=True,\n",
        "                                       transform=transform_mnist)\n",
        "\n",
        "test_set = torchvision.datasets.MNIST(root='.',train=False, download=True,\n",
        "                                      transform=transform_mnist)"
      ],
      "metadata": {
        "colab": {
          "base_uri": "https://localhost:8080/"
        },
        "id": "Hr3xKNE3lBn5",
        "outputId": "ff571dfc-a3bc-4c1d-c917-cf300ff9c915"
      },
      "execution_count": 7,
      "outputs": [
        {
          "output_type": "stream",
          "name": "stdout",
          "text": [
            "Downloading http://yann.lecun.com/exdb/mnist/train-images-idx3-ubyte.gz\n",
            "Failed to download (trying next):\n",
            "HTTP Error 403: Forbidden\n",
            "\n",
            "Downloading https://ossci-datasets.s3.amazonaws.com/mnist/train-images-idx3-ubyte.gz\n",
            "Downloading https://ossci-datasets.s3.amazonaws.com/mnist/train-images-idx3-ubyte.gz to ./MNIST/raw/train-images-idx3-ubyte.gz\n"
          ]
        },
        {
          "output_type": "stream",
          "name": "stderr",
          "text": [
            "100%|██████████| 9912422/9912422 [00:00<00:00, 34635429.29it/s]\n"
          ]
        },
        {
          "output_type": "stream",
          "name": "stdout",
          "text": [
            "Extracting ./MNIST/raw/train-images-idx3-ubyte.gz to ./MNIST/raw\n",
            "\n",
            "Downloading http://yann.lecun.com/exdb/mnist/train-labels-idx1-ubyte.gz\n",
            "Failed to download (trying next):\n",
            "HTTP Error 403: Forbidden\n",
            "\n",
            "Downloading https://ossci-datasets.s3.amazonaws.com/mnist/train-labels-idx1-ubyte.gz\n",
            "Downloading https://ossci-datasets.s3.amazonaws.com/mnist/train-labels-idx1-ubyte.gz to ./MNIST/raw/train-labels-idx1-ubyte.gz\n"
          ]
        },
        {
          "output_type": "stream",
          "name": "stderr",
          "text": [
            "100%|██████████| 28881/28881 [00:00<00:00, 1205078.48it/s]\n"
          ]
        },
        {
          "output_type": "stream",
          "name": "stdout",
          "text": [
            "Extracting ./MNIST/raw/train-labels-idx1-ubyte.gz to ./MNIST/raw\n",
            "\n",
            "Downloading http://yann.lecun.com/exdb/mnist/t10k-images-idx3-ubyte.gz\n",
            "Failed to download (trying next):\n",
            "HTTP Error 403: Forbidden\n",
            "\n",
            "Downloading https://ossci-datasets.s3.amazonaws.com/mnist/t10k-images-idx3-ubyte.gz\n",
            "Downloading https://ossci-datasets.s3.amazonaws.com/mnist/t10k-images-idx3-ubyte.gz to ./MNIST/raw/t10k-images-idx3-ubyte.gz\n"
          ]
        },
        {
          "output_type": "stream",
          "name": "stderr",
          "text": [
            "100%|██████████| 1648877/1648877 [00:00<00:00, 10252584.90it/s]\n"
          ]
        },
        {
          "output_type": "stream",
          "name": "stdout",
          "text": [
            "Extracting ./MNIST/raw/t10k-images-idx3-ubyte.gz to ./MNIST/raw\n",
            "\n",
            "Downloading http://yann.lecun.com/exdb/mnist/t10k-labels-idx1-ubyte.gz\n",
            "Failed to download (trying next):\n",
            "HTTP Error 403: Forbidden\n",
            "\n",
            "Downloading https://ossci-datasets.s3.amazonaws.com/mnist/t10k-labels-idx1-ubyte.gz\n",
            "Downloading https://ossci-datasets.s3.amazonaws.com/mnist/t10k-labels-idx1-ubyte.gz to ./MNIST/raw/t10k-labels-idx1-ubyte.gz\n"
          ]
        },
        {
          "output_type": "stream",
          "name": "stderr",
          "text": [
            "100%|██████████| 4542/4542 [00:00<00:00, 7775726.03it/s]"
          ]
        },
        {
          "output_type": "stream",
          "name": "stdout",
          "text": [
            "Extracting ./MNIST/raw/t10k-labels-idx1-ubyte.gz to ./MNIST/raw\n",
            "\n"
          ]
        },
        {
          "output_type": "stream",
          "name": "stderr",
          "text": [
            "\n"
          ]
        }
      ]
    },
    {
      "cell_type": "code",
      "source": [
        "train_loader = torch.utils.data.DataLoader(train_set, batch_size=BATCH_SIZE_TRAIN, shuffle=True)\n",
        "test_loader = torch.utils.data.DataLoader(test_set, batch_size=BATCH_SIZE_TEST, shuffle=True)"
      ],
      "metadata": {
        "id": "o1R2mq5VlQHw"
      },
      "execution_count": 8,
      "outputs": []
    },
    {
      "cell_type": "code",
      "source": [
        "it=iter(test_loader)\n",
        "image=next(it)[0]"
      ],
      "metadata": {
        "id": "3qGZWUqdlV0Z"
      },
      "execution_count": 9,
      "outputs": []
    },
    {
      "cell_type": "code",
      "source": [
        "B, C, H, W = image.shape\n",
        "print(\"batch size: {}, number of channels: {}, height: {},  width: {}\".format( B, C, H, W ))"
      ],
      "metadata": {
        "colab": {
          "base_uri": "https://localhost:8080/"
        },
        "id": "m5hGKOeNlbba",
        "outputId": "a8155793-525f-4c20-ed81-82a6d1ab0b9c"
      },
      "execution_count": 10,
      "outputs": [
        {
          "output_type": "stream",
          "name": "stdout",
          "text": [
            "batch size: 1000, number of channels: 1, height: 28,  width: 28\n"
          ]
        }
      ]
    },
    {
      "cell_type": "code",
      "source": [
        "image[0][0].shape"
      ],
      "metadata": {
        "colab": {
          "base_uri": "https://localhost:8080/"
        },
        "id": "r-2wTUgdlkM-",
        "outputId": "74c8efaa-bb28-4f32-d862-12059c881702"
      },
      "execution_count": 11,
      "outputs": [
        {
          "output_type": "execute_result",
          "data": {
            "text/plain": [
              "torch.Size([28, 28])"
            ]
          },
          "metadata": {},
          "execution_count": 11
        }
      ]
    },
    {
      "cell_type": "code",
      "source": [
        "plt.imshow(image[0][0].numpy(),cmap=\"gray\")\n",
        "plt.show()"
      ],
      "metadata": {
        "colab": {
          "base_uri": "https://localhost:8080/",
          "height": 430
        },
        "id": "fYH2sVuxlpYG",
        "outputId": "4d10a20d-eb17-4644-a7bb-e97248299ffd"
      },
      "execution_count": 12,
      "outputs": [
        {
          "output_type": "display_data",
          "data": {
            "text/plain": [
              "<Figure size 640x480 with 1 Axes>"
            ],
            "image/png": "[encoded data removed]"
          },
          "metadata": {}
        }
      ]
    },
    {
      "cell_type": "code",
      "source": [
        "patch_size=4\n",
        "\n",
        "n_patches=(H/patch_size)* (W/patch_size)\n",
        "n_patches"
      ],
      "metadata": {
        "colab": {
          "base_uri": "https://localhost:8080/"
        },
        "id": "jhg_n6kFlxK5",
        "outputId": "3d21d664-d1d5-446a-f6d7-7bc33c673e37"
      },
      "execution_count": 13,
      "outputs": [
        {
          "output_type": "execute_result",
          "data": {
            "text/plain": [
              "49.0"
            ]
          },
          "metadata": {},
          "execution_count": 13
        }
      ]
    },
    {
      "cell_type": "code",
      "source": [
        "patches=img_to_patch(torch.unsqueeze(test_set[1][0],0), patch_size, flatten_channels=False)"
      ],
      "metadata": {
        "id": "zHnRluVql24Q"
      },
      "execution_count": 14,
      "outputs": []
    },
    {
      "cell_type": "code",
      "source": [
        "patches.shape"
      ],
      "metadata": {
        "colab": {
          "base_uri": "https://localhost:8080/"
        },
        "id": "nBZ0AsD6l-G5",
        "outputId": "b4fe5895-030a-44d5-ea06-14f57c6622ef"
      },
      "execution_count": 16,
      "outputs": [
        {
          "output_type": "execute_result",
          "data": {
            "text/plain": [
              "torch.Size([1, 49, 1, 4, 4])"
            ]
          },
          "metadata": {},
          "execution_count": 16
        }
      ]
    },
    {
      "cell_type": "code",
      "source": [
        "plot_image_patchs(patches)"
      ],
      "metadata": {
        "colab": {
          "base_uri": "https://localhost:8080/",
          "height": 459
        },
        "id": "-M7oDYZUmF7Z",
        "outputId": "34757461-2e1d-4215-f6ce-2866488d88d6"
      },
      "execution_count": 17,
      "outputs": [
        {
          "output_type": "display_data",
          "data": {
            "text/plain": [
              "<Figure size 640x480 with 49 Axes>"
            ],
            "image/png": "[encoded data removed]"
          },
          "metadata": {}
        }
      ]
    },
    {
      "cell_type": "code",
      "source": [
        "plot_image_patchs(patches, seq=True)"
      ],
      "metadata": {
        "colab": {
          "base_uri": "https://localhost:8080/",
          "height": 126
        },
        "id": "in8Rr65rmMUY",
        "outputId": "e74453c9-25ef-4cd0-d40c-908116974122"
      },
      "execution_count": 18,
      "outputs": [
        {
          "output_type": "display_data",
          "data": {
            "text/plain": [
              "<Figure size 2500x500 with 49 Axes>"
            ],
            "image/png": "[encoded data removed]"
          },
          "metadata": {}
        }
      ]
    },
    {
      "cell_type": "code",
      "source": [
        "class AttentionBlock(nn.Module):\n",
        "\n",
        "    def __init__(self, embed_dim, hidden_dim, num_heads, dropout=0.0):\n",
        "        \"\"\"\n",
        "        Inputs:\n",
        "            embed_dim - Dimensionality of input and attention feature vectors\n",
        "            hidden_dim - Dimensionality of hidden layer in feed-forward network\n",
        "                         (usually 2-4x larger than embed_dim)\n",
        "            num_heads - Number of heads to use in the Multi-Head Attention block\n",
        "            dropout - Amount of dropout to apply in the feed-forward network\n",
        "            #source:https://uvadlc-notebooks.readthedocs.io/en/latest/tutorial_notebooks/tutorial15/Vision_Transformer.html\n",
        "        \"\"\"\n",
        "        super().__init__()\n",
        "\n",
        "        self.layer_norm_1 = nn.LayerNorm(embed_dim)\n",
        "        self.attn = nn.MultiheadAttention(embed_dim, num_heads,\n",
        "                                          dropout=dropout)\n",
        "        self.layer_norm_2 = nn.LayerNorm(embed_dim)\n",
        "        self.linear = nn.Sequential(\n",
        "            nn.Linear(embed_dim, hidden_dim),\n",
        "            nn.GELU(),\n",
        "            nn.Dropout(dropout),\n",
        "            nn.Linear(hidden_dim, embed_dim),\n",
        "            nn.Dropout(dropout)\n",
        "        )\n",
        "\n",
        "\n",
        "    def forward(self, x):\n",
        "        inp_x = self.layer_norm_1(x)\n",
        "        x = x + self.attn(inp_x, inp_x, inp_x)[0]\n",
        "        x = x + self.linear(self.layer_norm_2(x))\n",
        "        return x"
      ],
      "metadata": {
        "id": "x8DVxh8FmqAY"
      },
      "execution_count": 19,
      "outputs": []
    },
    {
      "cell_type": "code",
      "source": [
        "class VisionTransformer(nn.Module):\n",
        "\n",
        "    def __init__(self, embed_dim, hidden_dim, num_channels, num_heads, num_layers, num_classes, patch_size, num_patches, dropout=0.0):\n",
        "        \"\"\"\n",
        "        Inputs:\n",
        "            embed_dim - Dimensionality of the input feature vectors to the Transformer\n",
        "            hidden_dim - Dimensionality of the hidden layer in the feed-forward networks\n",
        "                         within the Transformer\n",
        "            num_channels - Number of channels of the input (3 for RGB)\n",
        "            num_heads - Number of heads to use in the Multi-Head Attention block\n",
        "            num_layers - Number of layers to use in the Transformer\n",
        "            num_classes - Number of classes to predict\n",
        "            patch_size - Number of pixels that the patches have per dimension\n",
        "            num_patches - Maximum number of patches an image can have\n",
        "            dropout - Amount of dropout to apply in the feed-forward network and\n",
        "                      on the input encoding\n",
        "             #source:https://uvadlc-notebooks.readthedocs.io/en/latest/tutorial_notebooks/tutorial15/Vision_Transformer.html\n",
        "        \"\"\"\n",
        "        super().__init__()\n",
        "\n",
        "        self.patch_size = patch_size\n",
        "\n",
        "        # Layers/Networks\n",
        "        self.input_layer = nn.Linear(num_channels*(patch_size**2), embed_dim)\n",
        "        self.transformer = nn.Sequential(*[AttentionBlock(embed_dim, hidden_dim, num_heads, dropout=dropout) for _ in range(num_layers)])\n",
        "        self.mlp_head = nn.Sequential(\n",
        "            nn.LayerNorm(embed_dim),\n",
        "            nn.Linear(embed_dim, num_classes)\n",
        "        )\n",
        "        self.dropout = nn.Dropout(dropout)\n",
        "\n",
        "        # Parameters/Embeddings\n",
        "        self.cls_token = nn.Parameter(torch.randn(1,1,embed_dim))\n",
        "        self.pos_embedding = nn.Parameter(torch.randn(1,1+num_patches,embed_dim))\n",
        "        print(num_patches)\n",
        "\n",
        "\n",
        "    def forward(self, x):\n",
        "        # Preprocess input\n",
        "        x = img_to_patch(x, self.patch_size)\n",
        "        B, T, _ = x.shape\n",
        "        x = self.input_layer(x)\n",
        "\n",
        "        # Add CLS token and positional encoding\n",
        "        cls_token = self.cls_token.repeat(B, 1, 1)\n",
        "        x = torch.cat([cls_token, x], dim=1)\n",
        "\n",
        "        x = x + self.pos_embedding[:,:T+1]\n",
        "\n",
        "        # Apply Transforrmer\n",
        "        x = self.dropout(x)\n",
        "        x = x.transpose(0, 1)\n",
        "        x = self.transformer(x)\n",
        "\n",
        "        # Perform classification prediction\n",
        "        cls = x[0]\n",
        "        out = self.mlp_head(cls)\n",
        "        return out"
      ],
      "metadata": {
        "id": "A_ndpREwmsJa"
      },
      "execution_count": 20,
      "outputs": []
    },
    {
      "cell_type": "code",
      "source": [
        "embed_dim= 256\n",
        "hidden_dim=512\n",
        "num_heads= 8\n",
        "num_layers=6\n",
        "patch_size=4\n",
        "num_channels=1\n",
        "num_patches=64\n",
        "num_classes=10\n",
        "dropout=0.2\n",
        "model=VisionTransformer( embed_dim= embed_dim, hidden_dim=hidden_dim, num_channels=num_channels, num_heads=num_heads, num_layers=num_layers, num_classes=num_classes, patch_size=patch_size, num_patches=num_patches, dropout=dropout)"
      ],
      "metadata": {
        "colab": {
          "base_uri": "https://localhost:8080/"
        },
        "id": "vcO0VItnm2MI",
        "outputId": "66e7410e-835b-4bab-9b04-4a4721f51acd"
      },
      "execution_count": 21,
      "outputs": [
        {
          "output_type": "stream",
          "name": "stdout",
          "text": [
            "64\n"
          ]
        }
      ]
    },
    {
      "cell_type": "code",
      "source": [
        "device = torch.device('cuda:0' if torch.cuda.is_available() else 'cpu')\n",
        "model.to(device)\n",
        "device"
      ],
      "metadata": {
        "colab": {
          "base_uri": "https://localhost:8080/"
        },
        "id": "zGbfDQDJm68p",
        "outputId": "578b3ce3-14bf-436c-9c0b-df9fdef8b51d"
      },
      "execution_count": 22,
      "outputs": [
        {
          "output_type": "execute_result",
          "data": {
            "text/plain": [
              "device(type='cpu')"
            ]
          },
          "metadata": {},
          "execution_count": 22
        }
      ]
    },
    {
      "cell_type": "code",
      "source": [
        "lr=3e-4\n",
        "criterion = nn.CrossEntropyLoss()\n",
        "optimizer = optim.AdamW(model.parameters(), lr=lr)\n",
        "scheduler = ExponentialLR(optimizer, gamma=0.9)"
      ],
      "metadata": {
        "id": "o1A7McP6nWxZ"
      },
      "execution_count": 23,
      "outputs": []
    },
    {
      "cell_type": "code",
      "source": [
        "'''\n",
        "useful_stuff = {'training_loss': [], 'validation_accuracy': []}\n",
        "correct_old=0\n",
        "\n",
        "for epoch in tqdm(range(100)):  # loop over the dataset multiple times\n",
        "\n",
        "    running_loss = 0.0\n",
        "    for i, data in enumerate(train_loader):\n",
        "        # get the inputs; data is a list of [inputs, labels]\n",
        "        inputs, labels = data[0].to(device), data[1].to(device)\n",
        "\n",
        "        # zero the parameter gradients\n",
        "        optimizer.zero_grad()\n",
        "\n",
        "        # forward + backward + optimize\n",
        "        model.train()\n",
        "        outputs = model(inputs)\n",
        "\n",
        "        loss = criterion(outputs, labels)\n",
        "        loss.backward()\n",
        "        optimizer.step()\n",
        "\n",
        "        # print statistics\n",
        "        running_loss += loss.item()\n",
        "\n",
        "        if i % 2000 == 1999:    # print every 2000 mini-batches\n",
        "            print(f'[{epoch + 1}, {i + 1:5d}] loss: {running_loss / 2000:.3f}')\n",
        "            running_loss = 0.0\n",
        "    scheduler.step()\n",
        "    useful_stuff['training_loss'].append(running_loss)\n",
        "    correct = 0\n",
        "    model.eval()\n",
        "\n",
        "    for inputs, labels in test_loader:\n",
        "      inputs, labels = inputs.to(device), labels.to(device)\n",
        "      z = model(inputs)\n",
        "      _, yhat = torch.max(z, 1)\n",
        "      correct += (yhat == labels).sum().item()\n",
        "      if correct>correct_old:\n",
        "          correct_old=correct\n",
        "\n",
        "    useful_stuff['validation_accuracy'].append(correct_old/len(test_set))\n",
        "print('Finished Training')\n",
        "'''"
      ],
      "metadata": {
        "id": "FMkb-9W8nriC"
      },
      "execution_count": null,
      "outputs": []
    },
    {
      "cell_type": "code",
      "source": [
        "dataset_url=\"https://cf-courses-data.s3.us.cloud-object-storage.appdomain.cloud/IBMSkillsNetwork-GPXX0CLHEN/gray_5_blocks_v2.pt\"\n",
        "dataset_path = \"gray_5_blocks_v2.pt\"\n",
        "torch.save(model.state_dict(), dataset_path)"
      ],
      "metadata": {
        "id": "q30MIYKjntc5"
      },
      "execution_count": 36,
      "outputs": []
    },
    {
      "cell_type": "code",
      "source": [
        "model.load_state_dict(torch.load('gray_5_blocks_v2.pt',map_location=device))\n",
        "model.eval()"
      ],
      "metadata": {
        "colab": {
          "base_uri": "https://localhost:8080/"
        },
        "id": "eaV87r1RoAPp",
        "outputId": "52282f88-a46a-47f3-9303-70bc2fc3b64c"
      },
      "execution_count": 38,
      "outputs": [
        {
          "output_type": "execute_result",
          "data": {
            "text/plain": [
              "VisionTransformer(\n",
              "  (input_layer): Linear(in_features=16, out_features=256, bias=True)\n",
              "  (transformer): Sequential(\n",
              "    (0): AttentionBlock(\n",
              "      (layer_norm_1): LayerNorm((256,), eps=1e-05, elementwise_affine=True)\n",
              "      (attn): MultiheadAttention(\n",
              "        (out_proj): NonDynamicallyQuantizableLinear(in_features=256, out_features=256, bias=True)\n",
              "      )\n",
              "      (layer_norm_2): LayerNorm((256,), eps=1e-05, elementwise_affine=True)\n",
              "      (linear): Sequential(\n",
              "        (0): Linear(in_features=256, out_features=512, bias=True)\n",
              "        (1): GELU(approximate='none')\n",
              "        (2): Dropout(p=0.2, inplace=False)\n",
              "        (3): Linear(in_features=512, out_features=256, bias=True)\n",
              "        (4): Dropout(p=0.2, inplace=False)\n",
              "      )\n",
              "    )\n",
              "    (1): AttentionBlock(\n",
              "      (layer_norm_1): LayerNorm((256,), eps=1e-05, elementwise_affine=True)\n",
              "      (attn): MultiheadAttention(\n",
              "        (out_proj): NonDynamicallyQuantizableLinear(in_features=256, out_features=256, bias=True)\n",
              "      )\n",
              "      (layer_norm_2): LayerNorm((256,), eps=1e-05, elementwise_affine=True)\n",
              "      (linear): Sequential(\n",
              "        (0): Linear(in_features=256, out_features=512, bias=True)\n",
              "        (1): GELU(approximate='none')\n",
              "        (2): Dropout(p=0.2, inplace=False)\n",
              "        (3): Linear(in_features=512, out_features=256, bias=True)\n",
              "        (4): Dropout(p=0.2, inplace=False)\n",
              "      )\n",
              "    )\n",
              "    (2): AttentionBlock(\n",
              "      (layer_norm_1): LayerNorm((256,), eps=1e-05, elementwise_affine=True)\n",
              "      (attn): MultiheadAttention(\n",
              "        (out_proj): NonDynamicallyQuantizableLinear(in_features=256, out_features=256, bias=True)\n",
              "      )\n",
              "      (layer_norm_2): LayerNorm((256,), eps=1e-05, elementwise_affine=True)\n",
              "      (linear): Sequential(\n",
              "        (0): Linear(in_features=256, out_features=512, bias=True)\n",
              "        (1): GELU(approximate='none')\n",
              "        (2): Dropout(p=0.2, inplace=False)\n",
              "        (3): Linear(in_features=512, out_features=256, bias=True)\n",
              "        (4): Dropout(p=0.2, inplace=False)\n",
              "      )\n",
              "    )\n",
              "    (3): AttentionBlock(\n",
              "      (layer_norm_1): LayerNorm((256,), eps=1e-05, elementwise_affine=True)\n",
              "      (attn): MultiheadAttention(\n",
              "        (out_proj): NonDynamicallyQuantizableLinear(in_features=256, out_features=256, bias=True)\n",
              "      )\n",
              "      (layer_norm_2): LayerNorm((256,), eps=1e-05, elementwise_affine=True)\n",
              "      (linear): Sequential(\n",
              "        (0): Linear(in_features=256, out_features=512, bias=True)\n",
              "        (1): GELU(approximate='none')\n",
              "        (2): Dropout(p=0.2, inplace=False)\n",
              "        (3): Linear(in_features=512, out_features=256, bias=True)\n",
              "        (4): Dropout(p=0.2, inplace=False)\n",
              "      )\n",
              "    )\n",
              "    (4): AttentionBlock(\n",
              "      (layer_norm_1): LayerNorm((256,), eps=1e-05, elementwise_affine=True)\n",
              "      (attn): MultiheadAttention(\n",
              "        (out_proj): NonDynamicallyQuantizableLinear(in_features=256, out_features=256, bias=True)\n",
              "      )\n",
              "      (layer_norm_2): LayerNorm((256,), eps=1e-05, elementwise_affine=True)\n",
              "      (linear): Sequential(\n",
              "        (0): Linear(in_features=256, out_features=512, bias=True)\n",
              "        (1): GELU(approximate='none')\n",
              "        (2): Dropout(p=0.2, inplace=False)\n",
              "        (3): Linear(in_features=512, out_features=256, bias=True)\n",
              "        (4): Dropout(p=0.2, inplace=False)\n",
              "      )\n",
              "    )\n",
              "    (5): AttentionBlock(\n",
              "      (layer_norm_1): LayerNorm((256,), eps=1e-05, elementwise_affine=True)\n",
              "      (attn): MultiheadAttention(\n",
              "        (out_proj): NonDynamicallyQuantizableLinear(in_features=256, out_features=256, bias=True)\n",
              "      )\n",
              "      (layer_norm_2): LayerNorm((256,), eps=1e-05, elementwise_affine=True)\n",
              "      (linear): Sequential(\n",
              "        (0): Linear(in_features=256, out_features=512, bias=True)\n",
              "        (1): GELU(approximate='none')\n",
              "        (2): Dropout(p=0.2, inplace=False)\n",
              "        (3): Linear(in_features=512, out_features=256, bias=True)\n",
              "        (4): Dropout(p=0.2, inplace=False)\n",
              "      )\n",
              "    )\n",
              "  )\n",
              "  (mlp_head): Sequential(\n",
              "    (0): LayerNorm((256,), eps=1e-05, elementwise_affine=True)\n",
              "    (1): Linear(in_features=256, out_features=10, bias=True)\n",
              "  )\n",
              "  (dropout): Dropout(p=0.2, inplace=False)\n",
              ")"
            ]
          },
          "metadata": {},
          "execution_count": 38
        }
      ]
    }
  ]
}
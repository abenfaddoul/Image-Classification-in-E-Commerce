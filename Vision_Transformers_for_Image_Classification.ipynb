{
  "nbformat": 4,
  "nbformat_minor": 0,
  "metadata": {
    "colab": {
      "provenance": [],
      "authorship_tag": "ABX9TyOnoC/akHXF21MZ9rUikMCc",
      "include_colab_link": true
    },
    "kernelspec": {
      "name": "python3",
      "display_name": "Python 3"
    },
    "language_info": {
      "name": "python"
    },
    "widgets": {
      "application/vnd.jupyter.widget-state+json": {
        "bf8f2c71a1634e84b1c22f26fcee5727": {
          "model_module": "@jupyter-widgets/controls",
          "model_name": "HBoxModel",
          "model_module_version": "2.0.0",
          "state": {
            "_dom_classes": [],
            "_model_module": "@jupyter-widgets/controls",
            "_model_module_version": "2.0.0",
            "_model_name": "HBoxModel",
            "_view_count": null,
            "_view_module": "@jupyter-widgets/controls",
            "_view_module_version": "2.0.0",
            "_view_name": "HBoxView",
            "box_style": "",
            "children": [
              "IPY_MODEL_6601b16c0f5947399355fadb19086537",
              "IPY_MODEL_ca4728d3ca194204963517f64f468e59",
              "IPY_MODEL_287c59784e2f436483eeb4c972eeb91b"
            ],
            "layout": "IPY_MODEL_fc37e1404379468ca8bdba93afd89f02",
            "tabbable": null,
            "tooltip": null
          }
        },
        "6601b16c0f5947399355fadb19086537": {
          "model_module": "@jupyter-widgets/controls",
          "model_name": "HTMLModel",
          "model_module_version": "2.0.0",
          "state": {
            "_dom_classes": [],
            "_model_module": "@jupyter-widgets/controls",
            "_model_module_version": "2.0.0",
            "_model_name": "HTMLModel",
            "_view_count": null,
            "_view_module": "@jupyter-widgets/controls",
            "_view_module_version": "2.0.0",
            "_view_name": "HTMLView",
            "description": "",
            "description_allow_html": false,
            "layout": "IPY_MODEL_89d03dea48b9426796325508fbc16770",
            "placeholder": "​",
            "style": "IPY_MODEL_fc3a415a80a74cc186532689458402ef",
            "tabbable": null,
            "tooltip": null,
            "value": "Downloading gray_5_blocks_v2.pt: 100%"
          }
        },
        "ca4728d3ca194204963517f64f468e59": {
          "model_module": "@jupyter-widgets/controls",
          "model_name": "FloatProgressModel",
          "model_module_version": "2.0.0",
          "state": {
            "_dom_classes": [],
            "_model_module": "@jupyter-widgets/controls",
            "_model_module_version": "2.0.0",
            "_model_name": "FloatProgressModel",
            "_view_count": null,
            "_view_module": "@jupyter-widgets/controls",
            "_view_module_version": "2.0.0",
            "_view_name": "ProgressView",
            "bar_style": "success",
            "description": "",
            "description_allow_html": false,
            "layout": "IPY_MODEL_c2d37fb95ff54adf83553bc04d0073b9",
            "max": 12776737,
            "min": 0,
            "orientation": "horizontal",
            "style": "IPY_MODEL_c98ec93a7c984bf6b34f83e7c1f7be3b",
            "tabbable": null,
            "tooltip": null,
            "value": 12776737
          }
        },
        "287c59784e2f436483eeb4c972eeb91b": {
          "model_module": "@jupyter-widgets/controls",
          "model_name": "HTMLModel",
          "model_module_version": "2.0.0",
          "state": {
            "_dom_classes": [],
            "_model_module": "@jupyter-widgets/controls",
            "_model_module_version": "2.0.0",
            "_model_name": "HTMLModel",
            "_view_count": null,
            "_view_module": "@jupyter-widgets/controls",
            "_view_module_version": "2.0.0",
            "_view_name": "HTMLView",
            "description": "",
            "description_allow_html": false,
            "layout": "IPY_MODEL_697097f74d654cbd9f7dbdb95e79faeb",
            "placeholder": "​",
            "style": "IPY_MODEL_156a79fd80434c59847f57c20b92eea7",
            "tabbable": null,
            "tooltip": null,
            "value": " 12776737/12776737 [00:02&lt;00:00, 9407845.42it/s]"
          }
        },
        "fc37e1404379468ca8bdba93afd89f02": {
          "model_module": "@jupyter-widgets/base",
          "model_name": "LayoutModel",
          "model_module_version": "2.0.0",
          "state": {
            "_model_module": "@jupyter-widgets/base",
            "_model_module_version": "2.0.0",
            "_model_name": "LayoutModel",
            "_view_count": null,
            "_view_module": "@jupyter-widgets/base",
            "_view_module_version": "2.0.0",
            "_view_name": "LayoutView",
            "align_content": null,
            "align_items": null,
            "align_self": null,
            "border_bottom": null,
            "border_left": null,
            "border_right": null,
            "border_top": null,
            "bottom": null,
            "display": null,
            "flex": null,
            "flex_flow": null,
            "grid_area": null,
            "grid_auto_columns": null,
            "grid_auto_flow": null,
            "grid_auto_rows": null,
            "grid_column": null,
            "grid_gap": null,
            "grid_row": null,
            "grid_template_areas": null,
            "grid_template_columns": null,
            "grid_template_rows": null,
            "height": null,
            "justify_content": null,
            "justify_items": null,
            "left": null,
            "margin": null,
            "max_height": null,
            "max_width": null,
            "min_height": null,
            "min_width": null,
            "object_fit": null,
            "object_position": null,
            "order": null,
            "overflow": null,
            "padding": null,
            "right": null,
            "top": null,
            "visibility": null,
            "width": null
          }
        },
        "89d03dea48b9426796325508fbc16770": {
          "model_module": "@jupyter-widgets/base",
          "model_name": "LayoutModel",
          "model_module_version": "2.0.0",
          "state": {
            "_model_module": "@jupyter-widgets/base",
            "_model_module_version": "2.0.0",
            "_model_name": "LayoutModel",
            "_view_count": null,
            "_view_module": "@jupyter-widgets/base",
            "_view_module_version": "2.0.0",
            "_view_name": "LayoutView",
            "align_content": null,
            "align_items": null,
            "align_self": null,
            "border_bottom": null,
            "border_left": null,
            "border_right": null,
            "border_top": null,
            "bottom": null,
            "display": null,
            "flex": null,
            "flex_flow": null,
            "grid_area": null,
            "grid_auto_columns": null,
            "grid_auto_flow": null,
            "grid_auto_rows": null,
            "grid_column": null,
            "grid_gap": null,
            "grid_row": null,
            "grid_template_areas": null,
            "grid_template_columns": null,
            "grid_template_rows": null,
            "height": null,
            "justify_content": null,
            "justify_items": null,
            "left": null,
            "margin": null,
            "max_height": null,
            "max_width": null,
            "min_height": null,
            "min_width": null,
            "object_fit": null,
            "object_position": null,
            "order": null,
            "overflow": null,
            "padding": null,
            "right": null,
            "top": null,
            "visibility": null,
            "width": null
          }
        },
        "fc3a415a80a74cc186532689458402ef": {
          "model_module": "@jupyter-widgets/controls",
          "model_name": "HTMLStyleModel",
          "model_module_version": "2.0.0",
          "state": {
            "_model_module": "@jupyter-widgets/controls",
            "_model_module_version": "2.0.0",
            "_model_name": "HTMLStyleModel",
            "_view_count": null,
            "_view_module": "@jupyter-widgets/base",
            "_view_module_version": "2.0.0",
            "_view_name": "StyleView",
            "background": null,
            "description_width": "",
            "font_size": null,
            "text_color": null
          }
        },
        "c2d37fb95ff54adf83553bc04d0073b9": {
          "model_module": "@jupyter-widgets/base",
          "model_name": "LayoutModel",
          "model_module_version": "2.0.0",
          "state": {
            "_model_module": "@jupyter-widgets/base",
            "_model_module_version": "2.0.0",
            "_model_name": "LayoutModel",
            "_view_count": null,
            "_view_module": "@jupyter-widgets/base",
            "_view_module_version": "2.0.0",
            "_view_name": "LayoutView",
            "align_content": null,
            "align_items": null,
            "align_self": null,
            "border_bottom": null,
            "border_left": null,
            "border_right": null,
            "border_top": null,
            "bottom": null,
            "display": null,
            "flex": null,
            "flex_flow": null,
            "grid_area": null,
            "grid_auto_columns": null,
            "grid_auto_flow": null,
            "grid_auto_rows": null,
            "grid_column": null,
            "grid_gap": null,
            "grid_row": null,
            "grid_template_areas": null,
            "grid_template_columns": null,
            "grid_template_rows": null,
            "height": null,
            "justify_content": null,
            "justify_items": null,
            "left": null,
            "margin": null,
            "max_height": null,
            "max_width": null,
            "min_height": null,
            "min_width": null,
            "object_fit": null,
            "object_position": null,
            "order": null,
            "overflow": null,
            "padding": null,
            "right": null,
            "top": null,
            "visibility": null,
            "width": null
          }
        },
        "c98ec93a7c984bf6b34f83e7c1f7be3b": {
          "model_module": "@jupyter-widgets/controls",
          "model_name": "ProgressStyleModel",
          "model_module_version": "2.0.0",
          "state": {
            "_model_module": "@jupyter-widgets/controls",
            "_model_module_version": "2.0.0",
            "_model_name": "ProgressStyleModel",
            "_view_count": null,
            "_view_module": "@jupyter-widgets/base",
            "_view_module_version": "2.0.0",
            "_view_name": "StyleView",
            "bar_color": null,
            "description_width": ""
          }
        },
        "697097f74d654cbd9f7dbdb95e79faeb": {
          "model_module": "@jupyter-widgets/base",
          "model_name": "LayoutModel",
          "model_module_version": "2.0.0",
          "state": {
            "_model_module": "@jupyter-widgets/base",
            "_model_module_version": "2.0.0",
            "_model_name": "LayoutModel",
            "_view_count": null,
            "_view_module": "@jupyter-widgets/base",
            "_view_module_version": "2.0.0",
            "_view_name": "LayoutView",
            "align_content": null,
            "align_items": null,
            "align_self": null,
            "border_bottom": null,
            "border_left": null,
            "border_right": null,
            "border_top": null,
            "bottom": null,
            "display": null,
            "flex": null,
            "flex_flow": null,
            "grid_area": null,
            "grid_auto_columns": null,
            "grid_auto_flow": null,
            "grid_auto_rows": null,
            "grid_column": null,
            "grid_gap": null,
            "grid_row": null,
            "grid_template_areas": null,
            "grid_template_columns": null,
            "grid_template_rows": null,
            "height": null,
            "justify_content": null,
            "justify_items": null,
            "left": null,
            "margin": null,
            "max_height": null,
            "max_width": null,
            "min_height": null,
            "min_width": null,
            "object_fit": null,
            "object_position": null,
            "order": null,
            "overflow": null,
            "padding": null,
            "right": null,
            "top": null,
            "visibility": null,
            "width": null
          }
        },
        "156a79fd80434c59847f57c20b92eea7": {
          "model_module": "@jupyter-widgets/controls",
          "model_name": "HTMLStyleModel",
          "model_module_version": "2.0.0",
          "state": {
            "_model_module": "@jupyter-widgets/controls",
            "_model_module_version": "2.0.0",
            "_model_name": "HTMLStyleModel",
            "_view_count": null,
            "_view_module": "@jupyter-widgets/base",
            "_view_module_version": "2.0.0",
            "_view_name": "StyleView",
            "background": null,
            "description_width": "",
            "font_size": null,
            "text_color": null
          }
        },
        "734d972ae9084a8192609feba2d04e07": {
          "model_module": "@jupyter-widgets/controls",
          "model_name": "HBoxModel",
          "model_module_version": "2.0.0",
          "state": {
            "_dom_classes": [],
            "_model_module": "@jupyter-widgets/controls",
            "_model_module_version": "2.0.0",
            "_model_name": "HBoxModel",
            "_view_count": null,
            "_view_module": "@jupyter-widgets/controls",
            "_view_module_version": "2.0.0",
            "_view_name": "HBoxView",
            "box_style": "",
            "children": [
              "IPY_MODEL_414155e3ee834a5c97cb5c9d7d9036c5",
              "IPY_MODEL_89d8a649e3e34c24af0b375cb11f30a3",
              "IPY_MODEL_67a8dd4a970b47a79e063d3e764bb215"
            ],
            "layout": "IPY_MODEL_0d79cd2f2ab04aaa81c9be078b817dce",
            "tabbable": null,
            "tooltip": null
          }
        },
        "414155e3ee834a5c97cb5c9d7d9036c5": {
          "model_module": "@jupyter-widgets/controls",
          "model_name": "HTMLModel",
          "model_module_version": "2.0.0",
          "state": {
            "_dom_classes": [],
            "_model_module": "@jupyter-widgets/controls",
            "_model_module_version": "2.0.0",
            "_model_name": "HTMLModel",
            "_view_count": null,
            "_view_module": "@jupyter-widgets/controls",
            "_view_module_version": "2.0.0",
            "_view_name": "HTMLView",
            "description": "",
            "description_allow_html": false,
            "layout": "IPY_MODEL_6353f699811b4e54800ae33e1385fbc2",
            "placeholder": "​",
            "style": "IPY_MODEL_fb445a60e9434fa3a53732079cdd6754",
            "tabbable": null,
            "tooltip": null,
            "value": "Extracting gray_5_blocks_v2.pt: 100%"
          }
        },
        "89d8a649e3e34c24af0b375cb11f30a3": {
          "model_module": "@jupyter-widgets/controls",
          "model_name": "FloatProgressModel",
          "model_module_version": "2.0.0",
          "state": {
            "_dom_classes": [],
            "_model_module": "@jupyter-widgets/controls",
            "_model_module_version": "2.0.0",
            "_model_name": "FloatProgressModel",
            "_view_count": null,
            "_view_module": "@jupyter-widgets/controls",
            "_view_module_version": "2.0.0",
            "_view_name": "ProgressView",
            "bar_style": "success",
            "description": "",
            "description_allow_html": false,
            "layout": "IPY_MODEL_ba8893e1e83c4f16a08c61f88bc4e647",
            "max": 82,
            "min": 0,
            "orientation": "horizontal",
            "style": "IPY_MODEL_afe4dbdfb36846cdaa0930e294716d71",
            "tabbable": null,
            "tooltip": null,
            "value": 82
          }
        },
        "67a8dd4a970b47a79e063d3e764bb215": {
          "model_module": "@jupyter-widgets/controls",
          "model_name": "HTMLModel",
          "model_module_version": "2.0.0",
          "state": {
            "_dom_classes": [],
            "_model_module": "@jupyter-widgets/controls",
            "_model_module_version": "2.0.0",
            "_model_name": "HTMLModel",
            "_view_count": null,
            "_view_module": "@jupyter-widgets/controls",
            "_view_module_version": "2.0.0",
            "_view_name": "HTMLView",
            "description": "",
            "description_allow_html": false,
            "layout": "IPY_MODEL_eb574f42ec24431e9bd9b69f5f9245b8",
            "placeholder": "​",
            "style": "IPY_MODEL_d52f76b288fa480c87cf6d1961827223",
            "tabbable": null,
            "tooltip": null,
            "value": " 82/82 [00:00&lt;00:00, 315.82it/s]"
          }
        },
        "0d79cd2f2ab04aaa81c9be078b817dce": {
          "model_module": "@jupyter-widgets/base",
          "model_name": "LayoutModel",
          "model_module_version": "2.0.0",
          "state": {
            "_model_module": "@jupyter-widgets/base",
            "_model_module_version": "2.0.0",
            "_model_name": "LayoutModel",
            "_view_count": null,
            "_view_module": "@jupyter-widgets/base",
            "_view_module_version": "2.0.0",
            "_view_name": "LayoutView",
            "align_content": null,
            "align_items": null,
            "align_self": null,
            "border_bottom": null,
            "border_left": null,
            "border_right": null,
            "border_top": null,
            "bottom": null,
            "display": null,
            "flex": null,
            "flex_flow": null,
            "grid_area": null,
            "grid_auto_columns": null,
            "grid_auto_flow": null,
            "grid_auto_rows": null,
            "grid_column": null,
            "grid_gap": null,
            "grid_row": null,
            "grid_template_areas": null,
            "grid_template_columns": null,
            "grid_template_rows": null,
            "height": null,
            "justify_content": null,
            "justify_items": null,
            "left": null,
            "margin": null,
            "max_height": null,
            "max_width": null,
            "min_height": null,
            "min_width": null,
            "object_fit": null,
            "object_position": null,
            "order": null,
            "overflow": null,
            "padding": null,
            "right": null,
            "top": null,
            "visibility": null,
            "width": null
          }
        },
        "6353f699811b4e54800ae33e1385fbc2": {
          "model_module": "@jupyter-widgets/base",
          "model_name": "LayoutModel",
          "model_module_version": "2.0.0",
          "state": {
            "_model_module": "@jupyter-widgets/base",
            "_model_module_version": "2.0.0",
            "_model_name": "LayoutModel",
            "_view_count": null,
            "_view_module": "@jupyter-widgets/base",
            "_view_module_version": "2.0.0",
            "_view_name": "LayoutView",
            "align_content": null,
            "align_items": null,
            "align_self": null,
            "border_bottom": null,
            "border_left": null,
            "border_right": null,
            "border_top": null,
            "bottom": null,
            "display": null,
            "flex": null,
            "flex_flow": null,
            "grid_area": null,
            "grid_auto_columns": null,
            "grid_auto_flow": null,
            "grid_auto_rows": null,
            "grid_column": null,
            "grid_gap": null,
            "grid_row": null,
            "grid_template_areas": null,
            "grid_template_columns": null,
            "grid_template_rows": null,
            "height": null,
            "justify_content": null,
            "justify_items": null,
            "left": null,
            "margin": null,
            "max_height": null,
            "max_width": null,
            "min_height": null,
            "min_width": null,
            "object_fit": null,
            "object_position": null,
            "order": null,
            "overflow": null,
            "padding": null,
            "right": null,
            "top": null,
            "visibility": null,
            "width": null
          }
        },
        "fb445a60e9434fa3a53732079cdd6754": {
          "model_module": "@jupyter-widgets/controls",
          "model_name": "HTMLStyleModel",
          "model_module_version": "2.0.0",
          "state": {
            "_model_module": "@jupyter-widgets/controls",
            "_model_module_version": "2.0.0",
            "_model_name": "HTMLStyleModel",
            "_view_count": null,
            "_view_module": "@jupyter-widgets/base",
            "_view_module_version": "2.0.0",
            "_view_name": "StyleView",
            "background": null,
            "description_width": "",
            "font_size": null,
            "text_color": null
          }
        },
        "ba8893e1e83c4f16a08c61f88bc4e647": {
          "model_module": "@jupyter-widgets/base",
          "model_name": "LayoutModel",
          "model_module_version": "2.0.0",
          "state": {
            "_model_module": "@jupyter-widgets/base",
            "_model_module_version": "2.0.0",
            "_model_name": "LayoutModel",
            "_view_count": null,
            "_view_module": "@jupyter-widgets/base",
            "_view_module_version": "2.0.0",
            "_view_name": "LayoutView",
            "align_content": null,
            "align_items": null,
            "align_self": null,
            "border_bottom": null,
            "border_left": null,
            "border_right": null,
            "border_top": null,
            "bottom": null,
            "display": null,
            "flex": null,
            "flex_flow": null,
            "grid_area": null,
            "grid_auto_columns": null,
            "grid_auto_flow": null,
            "grid_auto_rows": null,
            "grid_column": null,
            "grid_gap": null,
            "grid_row": null,
            "grid_template_areas": null,
            "grid_template_columns": null,
            "grid_template_rows": null,
            "height": null,
            "justify_content": null,
            "justify_items": null,
            "left": null,
            "margin": null,
            "max_height": null,
            "max_width": null,
            "min_height": null,
            "min_width": null,
            "object_fit": null,
            "object_position": null,
            "order": null,
            "overflow": null,
            "padding": null,
            "right": null,
            "top": null,
            "visibility": null,
            "width": null
          }
        },
        "afe4dbdfb36846cdaa0930e294716d71": {
          "model_module": "@jupyter-widgets/controls",
          "model_name": "ProgressStyleModel",
          "model_module_version": "2.0.0",
          "state": {
            "_model_module": "@jupyter-widgets/controls",
            "_model_module_version": "2.0.0",
            "_model_name": "ProgressStyleModel",
            "_view_count": null,
            "_view_module": "@jupyter-widgets/base",
            "_view_module_version": "2.0.0",
            "_view_name": "StyleView",
            "bar_color": null,
            "description_width": ""
          }
        },
        "eb574f42ec24431e9bd9b69f5f9245b8": {
          "model_module": "@jupyter-widgets/base",
          "model_name": "LayoutModel",
          "model_module_version": "2.0.0",
          "state": {
            "_model_module": "@jupyter-widgets/base",
            "_model_module_version": "2.0.0",
            "_model_name": "LayoutModel",
            "_view_count": null,
            "_view_module": "@jupyter-widgets/base",
            "_view_module_version": "2.0.0",
            "_view_name": "LayoutView",
            "align_content": null,
            "align_items": null,
            "align_self": null,
            "border_bottom": null,
            "border_left": null,
            "border_right": null,
            "border_top": null,
            "bottom": null,
            "display": null,
            "flex": null,
            "flex_flow": null,
            "grid_area": null,
            "grid_auto_columns": null,
            "grid_auto_flow": null,
            "grid_auto_rows": null,
            "grid_column": null,
            "grid_gap": null,
            "grid_row": null,
            "grid_template_areas": null,
            "grid_template_columns": null,
            "grid_template_rows": null,
            "height": null,
            "justify_content": null,
            "justify_items": null,
            "left": null,
            "margin": null,
            "max_height": null,
            "max_width": null,
            "min_height": null,
            "min_width": null,
            "object_fit": null,
            "object_position": null,
            "order": null,
            "overflow": null,
            "padding": null,
            "right": null,
            "top": null,
            "visibility": null,
            "width": null
          }
        },
        "d52f76b288fa480c87cf6d1961827223": {
          "model_module": "@jupyter-widgets/controls",
          "model_name": "HTMLStyleModel",
          "model_module_version": "2.0.0",
          "state": {
            "_model_module": "@jupyter-widgets/controls",
            "_model_module_version": "2.0.0",
            "_model_name": "HTMLStyleModel",
            "_view_count": null,
            "_view_module": "@jupyter-widgets/base",
            "_view_module_version": "2.0.0",
            "_view_name": "StyleView",
            "background": null,
            "description_width": "",
            "font_size": null,
            "text_color": null
          }
        }
      }
    }
  },
  "cells": [
    {
      "cell_type": "markdown",
      "metadata": {
        "id": "view-in-github",
        "colab_type": "text"
      },
      "source": [
        "<a href=\"https://colab.research.google.com/github/abenfaddoul/Image-Classification-in-E-Commerce/blob/main/Vision_Transformers_for_Image_Classification.ipynb\" target=\"_parent\"><img src=\"https://colab.research.google.com/assets/colab-badge.svg\" alt=\"Open In Colab\"/></a>"
      ]
    },
    {
      "cell_type": "markdown",
      "source": [
        "**Image Classification in E-Commerce:**\n",
        "\n",
        "```\n",
        "*Vision Transformers for Image Classification*\n",
        "We will work with the PyTorch library to build and train a vision transformer specifically for image classification tasks\n",
        "```\n",
        "\n",
        "\n"
      ],
      "metadata": {
        "id": "E4kENS-DeWgX"
      }
    },
    {
      "cell_type": "markdown",
      "source": [
        "Setup\n",
        "For this lab, we will be using the following libraries:\n",
        "\n",
        "**numpy** for mathematical and array operations.\n",
        "\n",
        "**sklearn** for machine learning and machine-learning-pipeline related functions.\n",
        "\n",
        "**torchvision** for deep learning and neural network-related functions.\n",
        "\n",
        "**torch** for multi-dimensional tensors and mathematical operations over tensors.\n",
        "\n",
        "**matplotlib** for additional plotting tools.\n",
        "\n",
        "**PIL** for loading images."
      ],
      "metadata": {
        "id": "YA9yEeoGe-nX"
      }
    },
    {
      "cell_type": "markdown",
      "source": [
        "### All Libraries required for this lab are listed below.\n",
        "## #!pip install -qy pandas==1.3.4 numpy==1.21.4 seaborn==0.9.0 matplotlib==3.5.0 scikit-learn==0.20.1\n",
        "\n",
        "\n",
        "\n"
      ],
      "metadata": {
        "id": "H6fKTNaJBpXQ"
      }
    },
    {
      "cell_type": "code",
      "source": [
        "pip install skillsnetwork"
      ],
      "metadata": {
        "colab": {
          "base_uri": "https://localhost:8080/"
        },
        "id": "s0OhcXsU0ipQ",
        "outputId": "f73eea57-080d-4c53-f243-8e03cd0aa02b"
      },
      "execution_count": 16,
      "outputs": [
        {
          "output_type": "stream",
          "name": "stdout",
          "text": [
            "Requirement already satisfied: skillsnetwork in /usr/local/lib/python3.10/dist-packages (0.21.9)\n",
            "Requirement already satisfied: ipython in /usr/local/lib/python3.10/dist-packages (from skillsnetwork) (7.34.0)\n",
            "Requirement already satisfied: ipywidgets<9,>=8 in /usr/local/lib/python3.10/dist-packages (from skillsnetwork) (8.1.2)\n",
            "Requirement already satisfied: requests<3,>=2 in /usr/local/lib/python3.10/dist-packages (from skillsnetwork) (2.31.0)\n",
            "Requirement already satisfied: tqdm<5,>=4 in /usr/local/lib/python3.10/dist-packages (from skillsnetwork) (4.66.2)\n",
            "Requirement already satisfied: comm>=0.1.3 in /usr/local/lib/python3.10/dist-packages (from ipywidgets<9,>=8->skillsnetwork) (0.2.2)\n",
            "Requirement already satisfied: traitlets>=4.3.1 in /usr/local/lib/python3.10/dist-packages (from ipywidgets<9,>=8->skillsnetwork) (5.7.1)\n",
            "Requirement already satisfied: widgetsnbextension~=4.0.10 in /usr/local/lib/python3.10/dist-packages (from ipywidgets<9,>=8->skillsnetwork) (4.0.10)\n",
            "Requirement already satisfied: jupyterlab-widgets~=3.0.10 in /usr/local/lib/python3.10/dist-packages (from ipywidgets<9,>=8->skillsnetwork) (3.0.10)\n",
            "Requirement already satisfied: setuptools>=18.5 in /usr/local/lib/python3.10/dist-packages (from ipython->skillsnetwork) (67.7.2)\n",
            "Requirement already satisfied: jedi>=0.16 in /usr/local/lib/python3.10/dist-packages (from ipython->skillsnetwork) (0.19.1)\n",
            "Requirement already satisfied: decorator in /usr/local/lib/python3.10/dist-packages (from ipython->skillsnetwork) (4.4.2)\n",
            "Requirement already satisfied: pickleshare in /usr/local/lib/python3.10/dist-packages (from ipython->skillsnetwork) (0.7.5)\n",
            "Requirement already satisfied: prompt-toolkit!=3.0.0,!=3.0.1,<3.1.0,>=2.0.0 in /usr/local/lib/python3.10/dist-packages (from ipython->skillsnetwork) (3.0.43)\n",
            "Requirement already satisfied: pygments in /usr/local/lib/python3.10/dist-packages (from ipython->skillsnetwork) (2.16.1)\n",
            "Requirement already satisfied: backcall in /usr/local/lib/python3.10/dist-packages (from ipython->skillsnetwork) (0.2.0)\n",
            "Requirement already satisfied: matplotlib-inline in /usr/local/lib/python3.10/dist-packages (from ipython->skillsnetwork) (0.1.7)\n",
            "Requirement already satisfied: pexpect>4.3 in /usr/local/lib/python3.10/dist-packages (from ipython->skillsnetwork) (4.9.0)\n",
            "Requirement already satisfied: charset-normalizer<4,>=2 in /usr/local/lib/python3.10/dist-packages (from requests<3,>=2->skillsnetwork) (3.3.2)\n",
            "Requirement already satisfied: idna<4,>=2.5 in /usr/local/lib/python3.10/dist-packages (from requests<3,>=2->skillsnetwork) (3.7)\n",
            "Requirement already satisfied: urllib3<3,>=1.21.1 in /usr/local/lib/python3.10/dist-packages (from requests<3,>=2->skillsnetwork) (2.0.7)\n",
            "Requirement already satisfied: certifi>=2017.4.17 in /usr/local/lib/python3.10/dist-packages (from requests<3,>=2->skillsnetwork) (2024.2.2)\n",
            "Requirement already satisfied: parso<0.9.0,>=0.8.3 in /usr/local/lib/python3.10/dist-packages (from jedi>=0.16->ipython->skillsnetwork) (0.8.4)\n",
            "Requirement already satisfied: ptyprocess>=0.5 in /usr/local/lib/python3.10/dist-packages (from pexpect>4.3->ipython->skillsnetwork) (0.7.0)\n",
            "Requirement already satisfied: wcwidth in /usr/local/lib/python3.10/dist-packages (from prompt-toolkit!=3.0.0,!=3.0.1,<3.1.0,>=2.0.0->ipython->skillsnetwork) (0.2.13)\n"
          ]
        }
      ]
    },
    {
      "cell_type": "code",
      "execution_count": 17,
      "metadata": {
        "id": "03VeZjtQeUXd"
      },
      "outputs": [],
      "source": [
        "import os\n",
        "from PIL import Image\n",
        "import numpy as np\n",
        "import skillsnetwork\n",
        "## Imports for plotting\n",
        "import matplotlib.pyplot as plt\n",
        "import torch\n",
        "import torchvision\n",
        "from torchvision.datasets import CIFAR10\n",
        "from torchvision import transforms\n",
        "from torchvision.utils import make_grid\n",
        "import torch.nn as nn\n",
        "from torchvision import transforms\n",
        "from matplotlib.pyplot import figure\n",
        "from sklearn.manifold import TSNE\n",
        "from tqdm import tqdm\n",
        "\n",
        "import torch.optim as optim\n",
        "import torch.nn.functional as F\n",
        "from torch.optim.lr_scheduler import ExponentialLR"
      ]
    },
    {
      "cell_type": "markdown",
      "source": [
        "### Defining Helper Functions"
      ],
      "metadata": {
        "id": "kh4_wl6ACRIx"
      }
    },
    {
      "cell_type": "code",
      "source": [
        "def plot_samples(dataset, size_even=6, classes=None):\n",
        "\n",
        "    size_even = 6  # Default number of samples to plot\n",
        "    dataset = train_set  # Default dataset to use (assuming 'train_set')\n",
        "    fig, axs = plt.subplots(2, int(size_even // 2))  # Create subplots for the samples\n",
        "\n",
        "    if classes is None:\n",
        "        classes = tuple([n for n in range(len(dataset))])  # Default class labels\n",
        "\n",
        "    n_samples = len(dataset)  # Total number of samples in the dataset\n",
        "\n",
        "    # Randomly select samples\n",
        "    samples = np.random.randint(0, high=n_samples - 1, size=int(size_even))\n",
        "\n",
        "    row = 0\n",
        "    col = 0\n",
        "    for n, sample in enumerate(samples):\n",
        "        img = dataset[sample][0]  # Get the image from the dataset\n",
        "        label = \"y={}\".format(classes[int(dataset[sample][1])])  # Get the label for the image\n",
        "\n",
        "        col = n\n",
        "\n",
        "        # Determine the row and column index for the current sample\n",
        "        if n > size_even / 2 - 1:\n",
        "            row = 1\n",
        "            col = n - int(size_even / 2)\n",
        "\n",
        "        # Display the image and label in the corresponding subplot\n",
        "        axs[row, col].imshow(make_grid(img, normalize=True).permute(1, 2, 0))\n",
        "        axs[row, col].set_title(label)\n",
        "        axs[row, col].axis('off')"
      ],
      "metadata": {
        "id": "Lq76v-udjTmR"
      },
      "execution_count": 18,
      "outputs": []
    },
    {
      "cell_type": "code",
      "source": [
        "def plot_image_patchs(patchs, seq=False):\n",
        "\n",
        "    if patchs.shape[-3] == 1:\n",
        "        patchs = patchs.repeat(1, 1, 3, 1, 1)  # Add 3 channel dimension if image is grayscale\n",
        "\n",
        "    N_patchs = patchs.shape[1]  # Number of image patches\n",
        "\n",
        "    plot_patchs = make_grid(patchs, normalize=True).permute(0, 2, 3, 1)  # Arrange patches for plotting\n",
        "\n",
        "    N_rows = int(np.sqrt(N_patchs))  # Number of rows for the grid plot\n",
        "\n",
        "    # Create subplots for the image patches\n",
        "    if seq:\n",
        "        fig, ax = plt.subplots(1, N_rows * N_rows, sharex='col', sharey='row', figsize=(25, 5))\n",
        "        fig.suptitle(\"Image as Sequence\")\n",
        "    else:\n",
        "        fig, ax = plt.subplots(N_rows, N_rows, sharex='col', sharey='row')\n",
        "        fig.suptitle(\"Image\")\n",
        "\n",
        "    i, j = 0, 0\n",
        "    for n in range(N_patchs):\n",
        "        if seq:\n",
        "            ax[n].imshow(plot_patchs[n])\n",
        "            ax[n].set_xlabel(str(n + 1))\n",
        "            ax[n].axes.xaxis.set_ticklabels([])\n",
        "            ax[n].axes.yaxis.set_ticklabels([])\n",
        "        else:\n",
        "            if n % N_rows == 0 and n != 0:\n",
        "                i += 1\n",
        "                j = 0\n",
        "\n",
        "            ax[i, j].imshow(plot_patchs[n])\n",
        "            ax[i, j].set_ylabel(str(n + 1))\n",
        "            ax[i, j].axes.xaxis.set_ticklabels([])\n",
        "            ax[i, j].axes.yaxis.set_ticklabels([])\n",
        "            j += 1\n",
        "\n",
        "    plt.show()\n"
      ],
      "metadata": {
        "id": "wh7c2_rWjf7Q"
      },
      "execution_count": 19,
      "outputs": []
    },
    {
      "cell_type": "code",
      "source": [
        "def plot_patchs_lables(X, y, label=True, p_show=0.5):\n",
        "    '''\n",
        "    The code implements a function for plotting t-SNE visualization of patches and their labels, with the option to label each point and control\n",
        "    the frequency of labeling for the sequence index.\n",
        "\n",
        "    X: This is a tensor representing the data to be plotted. It should have the shape (sample, patch, dim), where sample is the number of samples, patch is the size of each patch or sequence length, and dim is the number of features for each patch.\n",
        "    y: This is a tensor representing the labels for each sample. It should have the shape (sample, 1).\n",
        "    label: This is a boolean value that controls whether to label each data point in the plot. If label is set to True, each data point in the plot will be labeled.\n",
        "    p_show: This is a float value between 0 and 1 that controls the frequency of labeling for the sequence index. It specifies the probability of showing a label for each data point. For example, if p_show is set to 0.5, then approximately half of the data points will be labeled.\n",
        "    '''\n",
        "\n",
        "    # Detach X from its computational graph if it's not a leaf node\n",
        "    if not (X.is_leaf):\n",
        "        X = X.detach()\n",
        "\n",
        "    # Get the shape of the input tensor X\n",
        "    if X.shape[0] == 49:\n",
        "        sample = X.shape[1]\n",
        "        patch = X.shape[0]  # Patch size or sequence length\n",
        "        dim = X.shape[2]\n",
        "    if X.shape[0] == 1000:\n",
        "        sample = X.shape[0]\n",
        "        patch = X.shape[1]\n",
        "        dim = X.shape[2]\n",
        "\n",
        "    # Reshape X and convert it to a numpy array\n",
        "    X = X.reshape(sample * patch, dim).numpy()\n",
        "\n",
        "    # Flatten the y tensor and convert it to a numpy array to label each sequence\n",
        "    colors = y.repeat(patch, 1).T.flatten().numpy()\n",
        "\n",
        "    # Perform t-SNE on the X data\n",
        "    X_ = TSNE(n_components=2, learning_rate='auto', init='random').fit_transform(X)\n",
        "\n",
        "    # Create a scatter plot of the t-SNE transformed X data with each class labeled via color\n",
        "    fig, ax = plt.subplots()\n",
        "    for color in np.unique(colors):\n",
        "        temp = colors == color\n",
        "        ax.scatter(X_[temp, 0], X_[temp, 1], label=color)\n",
        "\n",
        "    # If the label argument is set to True, add labels to the scatter plot\n",
        "    if label:\n",
        "        for i, x in enumerate(X_):\n",
        "            # Label plots with a probability of p_show\n",
        "            if np.random.binomial(1, p_show, 1).item() == 1:\n",
        "                ax.annotate(str(i % patch), (x[0], x[1]))\n",
        "\n",
        "    # Add a legend to the scatter plot\n",
        "    ax.legend()"
      ],
      "metadata": {
        "id": "hx8F22zVjn7g"
      },
      "execution_count": 20,
      "outputs": []
    },
    {
      "cell_type": "markdown",
      "source": [
        "Convert an image into a set of vectors."
      ],
      "metadata": {
        "id": "vHLywUbuDPfd"
      }
    },
    {
      "cell_type": "code",
      "source": [
        "def img_to_patch(x, patch_size, flatten_channels=True):\n",
        "\n",
        "    B, C, H, W = x.shape\n",
        "    x = x.reshape(B, C, H//patch_size, patch_size, W//patch_size, patch_size)\n",
        "    x = x.permute(0, 2, 4, 1, 3, 5) # [B, H', W', C, p_H, p_W]\n",
        "    x = x.flatten(1,2)              # [B, H'*W', C, p_H, p_W]\n",
        "    if flatten_channels:\n",
        "        x = x.flatten(2,4)          # [B, H'*W', C*p_H*p_W]\n",
        "    return x"
      ],
      "metadata": {
        "id": "H7I6ojpqjuFA"
      },
      "execution_count": 21,
      "outputs": []
    },
    {
      "cell_type": "markdown",
      "source": [
        "Loading MNIST dataset | Normalization"
      ],
      "metadata": {
        "id": "ak9jZtp8Csu9"
      }
    },
    {
      "cell_type": "code",
      "source": [
        "BATCH_SIZE_TRAIN = 100\n",
        "BATCH_SIZE_TEST = 1000\n",
        "\n",
        "transform_mnist = torchvision.transforms.Compose([torchvision.transforms.ToTensor(),\n",
        "                               torchvision.transforms.Normalize((0.1307,), (0.3081,))])\n",
        "\n",
        "train_set = torchvision.datasets.MNIST(root='.',train=True, download=True,\n",
        "                                       transform=transform_mnist)\n",
        "\n",
        "test_set = torchvision.datasets.MNIST(root='.',train=False, download=True,\n",
        "                                      transform=transform_mnist)"
      ],
      "metadata": {
        "id": "Hr3xKNE3lBn5"
      },
      "execution_count": 22,
      "outputs": []
    },
    {
      "cell_type": "markdown",
      "source": [
        "DataLoader"
      ],
      "metadata": {
        "id": "Xl574L-GDueW"
      }
    },
    {
      "cell_type": "code",
      "source": [
        "train_loader = torch.utils.data.DataLoader(train_set, batch_size=BATCH_SIZE_TRAIN, shuffle=True)\n",
        "test_loader = torch.utils.data.DataLoader(test_set, batch_size=BATCH_SIZE_TEST, shuffle=True)"
      ],
      "metadata": {
        "id": "o1R2mq5VlQHw"
      },
      "execution_count": 23,
      "outputs": []
    },
    {
      "cell_type": "markdown",
      "source": [
        "Images as Sequences\n",
        "The first line creates an iterator **it** from the **test_loader** data loader. The iterator allows us to iterate over the test dataset in batches, enabling us to access and process the data in a sequential manner.\n",
        "\n",
        "The second line retrieves the next batch of data from the iterator using the **next() function**. By accessing the element at index 0, it retrieves the input images from the batch. In this case, it fetches the input image from the first batch of the test dataset."
      ],
      "metadata": {
        "id": "Kvtn-F3vD4pr"
      }
    },
    {
      "cell_type": "code",
      "source": [
        "it=iter(test_loader)\n",
        "image=next(it)[0]"
      ],
      "metadata": {
        "id": "3qGZWUqdlV0Z"
      },
      "execution_count": 24,
      "outputs": []
    },
    {
      "cell_type": "markdown",
      "source": [
        "image is assumed to be a tensor, and **B, C, H and W**  represent the **batch size, number of channels, height, and width respectively**"
      ],
      "metadata": {
        "id": "gYXdup-YEbs4"
      }
    },
    {
      "cell_type": "code",
      "source": [
        "B, C, H, W = image.shape\n",
        "print(\"batch size: {}, number of channels: {}, height: {},  width: {}\".format( B, C, H, W ))"
      ],
      "metadata": {
        "colab": {
          "base_uri": "https://localhost:8080/"
        },
        "id": "m5hGKOeNlbba",
        "outputId": "0be9ca18-bb37-463f-ba0f-b03013c83972"
      },
      "execution_count": 25,
      "outputs": [
        {
          "output_type": "stream",
          "name": "stdout",
          "text": [
            "batch size: 1000, number of channels: 1, height: 28,  width: 28\n"
          ]
        }
      ]
    },
    {
      "cell_type": "markdown",
      "source": [
        "The image itself represents the last two dimensions.\n"
      ],
      "metadata": {
        "id": "ymcJxz_PE2vC"
      }
    },
    {
      "cell_type": "code",
      "source": [
        "image[0][0].shape"
      ],
      "metadata": {
        "colab": {
          "base_uri": "https://localhost:8080/"
        },
        "id": "r-2wTUgdlkM-",
        "outputId": "91701982-1a6a-4d2a-d376-10c94c7280f5"
      },
      "execution_count": 26,
      "outputs": [
        {
          "output_type": "execute_result",
          "data": {
            "text/plain": [
              "torch.Size([28, 28])"
            ]
          },
          "metadata": {},
          "execution_count": 26
        }
      ]
    },
    {
      "cell_type": "code",
      "source": [
        "plt.imshow(image[0][0].numpy(),cmap=\"gray\")\n",
        "plt.show()"
      ],
      "metadata": {
        "colab": {
          "base_uri": "https://localhost:8080/",
          "height": 430
        },
        "id": "fYH2sVuxlpYG",
        "outputId": "31b0f25d-77ad-45ab-9da9-ce93d9935e56"
      },
      "execution_count": 27,
      "outputs": [
        {
          "output_type": "display_data",
          "data": {
            "text/plain": [
              "<Figure size 640x480 with 1 Axes>"
            ],
            "image/png": "[encoded data removed]"
          },
          "metadata": {}
        }
      ]
    },
    {
      "cell_type": "markdown",
      "source": [
        "To split the image into patches, we will use a patch size of 4. The number of batches can be determined by dividing the size of the image by the patch size and squaring the result, assuming that the patches form a square shape.\n"
      ],
      "metadata": {
        "id": "_dLXMUr-FDwX"
      }
    },
    {
      "cell_type": "code",
      "source": [
        "patch_size=4\n",
        "\n",
        "n_patches=(H/patch_size)* (W/patch_size)\n",
        "n_patches"
      ],
      "metadata": {
        "colab": {
          "base_uri": "https://localhost:8080/"
        },
        "id": "jhg_n6kFlxK5",
        "outputId": "3e082848-8975-4400-a8cc-0c58e6d8bab4"
      },
      "execution_count": 28,
      "outputs": [
        {
          "output_type": "execute_result",
          "data": {
            "text/plain": [
              "49.0"
            ]
          },
          "metadata": {},
          "execution_count": 28
        }
      ]
    },
    {
      "cell_type": "markdown",
      "source": [
        "We have the option to convert the image into a set of patches. In this case, when **`flatten_channels`** is set to **`False`**, the patches are arranged in an image grid format instead of flattening the channels. This arrangement enables us to visualize the patches as a grid and use them as a feature vector for further analysis or application.\n"
      ],
      "metadata": {
        "id": "MoTHIdvyFRXb"
      }
    },
    {
      "cell_type": "code",
      "source": [
        "patches=img_to_patch(torch.unsqueeze(test_set[1][0],0), patch_size, flatten_channels=False)"
      ],
      "metadata": {
        "id": "zHnRluVql24Q"
      },
      "execution_count": 29,
      "outputs": []
    },
    {
      "cell_type": "code",
      "source": [
        "patches.shape"
      ],
      "metadata": {
        "colab": {
          "base_uri": "https://localhost:8080/"
        },
        "id": "nBZ0AsD6l-G5",
        "outputId": "21404167-5392-47c6-9a79-cb254b011548"
      },
      "execution_count": 30,
      "outputs": [
        {
          "output_type": "execute_result",
          "data": {
            "text/plain": [
              "torch.Size([1, 49, 1, 4, 4])"
            ]
          },
          "metadata": {},
          "execution_count": 30
        }
      ]
    },
    {
      "cell_type": "code",
      "source": [
        "plot_image_patchs(patches)"
      ],
      "metadata": {
        "colab": {
          "base_uri": "https://localhost:8080/",
          "height": 459
        },
        "id": "-M7oDYZUmF7Z",
        "outputId": "d9b04e83-d65c-49cf-e4de-1334b2736914"
      },
      "execution_count": 31,
      "outputs": [
        {
          "output_type": "display_data",
          "data": {
            "text/plain": [
              "<Figure size 640x480 with 49 Axes>"
            ],
            "image/png": "[encoded data removed]"
          },
          "metadata": {}
        }
      ]
    },
    {
      "cell_type": "code",
      "source": [
        "plot_image_patchs(patches, seq=True)"
      ],
      "metadata": {
        "colab": {
          "base_uri": "https://localhost:8080/",
          "height": 126
        },
        "id": "in8Rr65rmMUY",
        "outputId": "1e6e030e-cd01-4d38-e907-6cbb180d6c6b"
      },
      "execution_count": 32,
      "outputs": [
        {
          "output_type": "display_data",
          "data": {
            "text/plain": [
              "<Figure size 2500x500 with 49 Axes>"
            ],
            "image/png": "[encoded data removed]"
          },
          "metadata": {}
        }
      ]
    },
    {
      "cell_type": "markdown",
      "source": [
        "**Constructing Vision Transformer Model**\n",
        "\n",
        "We will now construct a Transformer model specifically designed for image-related tasks, utilizing the nn.MultiheadAttention module provided by PyTorch."
      ],
      "metadata": {
        "id": "h2H95a0cFiUu"
      }
    },
    {
      "cell_type": "code",
      "source": [
        "class AttentionBlock(nn.Module):\n",
        "\n",
        "    def __init__(self, embed_dim, hidden_dim, num_heads, dropout=0.0):\n",
        "        \"\"\"\n",
        "        Inputs:\n",
        "            embed_dim - Dimensionality of input and attention feature vectors\n",
        "            hidden_dim - Dimensionality of hidden layer in feed-forward network\n",
        "                         (usually 2-4x larger than embed_dim)\n",
        "            num_heads - Number of heads to use in the Multi-Head Attention block\n",
        "            dropout - Amount of dropout to apply in the feed-forward network\n",
        "            #source:https://uvadlc-notebooks.readthedocs.io/en/latest/tutorial_notebooks/tutorial15/Vision_Transformer.html\n",
        "        \"\"\"\n",
        "        super().__init__()\n",
        "\n",
        "        self.layer_norm_1 = nn.LayerNorm(embed_dim)\n",
        "        self.attn = nn.MultiheadAttention(embed_dim, num_heads,\n",
        "                                          dropout=dropout)\n",
        "        self.layer_norm_2 = nn.LayerNorm(embed_dim)\n",
        "        self.linear = nn.Sequential(\n",
        "            nn.Linear(embed_dim, hidden_dim),\n",
        "            nn.GELU(),\n",
        "            nn.Dropout(dropout),\n",
        "            nn.Linear(hidden_dim, embed_dim),\n",
        "            nn.Dropout(dropout)\n",
        "        )\n",
        "\n",
        "\n",
        "    def forward(self, x):\n",
        "        inp_x = self.layer_norm_1(x)\n",
        "        x = x + self.attn(inp_x, inp_x, inp_x)[0]\n",
        "        x = x + self.linear(self.layer_norm_2(x))\n",
        "        return x"
      ],
      "metadata": {
        "id": "x8DVxh8FmqAY"
      },
      "execution_count": 33,
      "outputs": []
    },
    {
      "cell_type": "markdown",
      "source": [
        "The VisionTransformer is utilized for image classification and follows a set of steps to process the input image:\n",
        "\n",
        "1. **Preprocessing**: The img_to_patch function divides the input image into patches.\n",
        "2. **Input Encoding**: The patches pass through an input layer, generating feature vectors.\n",
        "3. **Positional Encoding**: The feature vectors incorporate positional embeddings and a CLS token, capturing spatial information.\n",
        "4. **Transformer Blocks**: Multiple Transformer blocks process the feature vectors and positional embeddings, employing self-attention mechanisms to capture patch dependencies and extract meaningful representations.\n",
        "5. **Classification Prediction**: The output from the Transformer blocks enters an MLP head, responsible for the final classification prediction."
      ],
      "metadata": {
        "id": "hADOYYjAF6yG"
      }
    },
    {
      "cell_type": "code",
      "source": [
        "class VisionTransformer(nn.Module):\n",
        "\n",
        "    def __init__(self, embed_dim, hidden_dim, num_channels, num_heads, num_layers, num_classes, patch_size, num_patches, dropout=0.0):\n",
        "        \"\"\"\n",
        "        Inputs:\n",
        "            embed_dim - Dimensionality of the input feature vectors to the Transformer\n",
        "            hidden_dim - Dimensionality of the hidden layer in the feed-forward networks\n",
        "                         within the Transformer\n",
        "            num_channels - Number of channels of the input (3 for RGB)\n",
        "            num_heads - Number of heads to use in the Multi-Head Attention block\n",
        "            num_layers - Number of layers to use in the Transformer\n",
        "            num_classes - Number of classes to predict\n",
        "            patch_size - Number of pixels that the patches have per dimension\n",
        "            num_patches - Maximum number of patches an image can have\n",
        "            dropout - Amount of dropout to apply in the feed-forward network and\n",
        "                      on the input encoding\n",
        "             #source:https://uvadlc-notebooks.readthedocs.io/en/latest/tutorial_notebooks/tutorial15/Vision_Transformer.html\n",
        "        \"\"\"\n",
        "        super().__init__()\n",
        "\n",
        "        self.patch_size = patch_size\n",
        "\n",
        "        # Layers/Networks\n",
        "        self.input_layer = nn.Linear(num_channels*(patch_size**2), embed_dim)\n",
        "        self.transformer = nn.Sequential(*[AttentionBlock(embed_dim, hidden_dim, num_heads, dropout=dropout) for _ in range(num_layers)])\n",
        "        self.mlp_head = nn.Sequential(\n",
        "            nn.LayerNorm(embed_dim),\n",
        "            nn.Linear(embed_dim, num_classes)\n",
        "        )\n",
        "        self.dropout = nn.Dropout(dropout)\n",
        "\n",
        "        # Parameters/Embeddings\n",
        "        self.cls_token = nn.Parameter(torch.randn(1,1,embed_dim))\n",
        "        self.pos_embedding = nn.Parameter(torch.randn(1,1+num_patches,embed_dim))\n",
        "        print(num_patches)\n",
        "\n",
        "\n",
        "    def forward(self, x):\n",
        "        # Preprocess input\n",
        "        x = img_to_patch(x, self.patch_size)\n",
        "        B, T, _ = x.shape\n",
        "        x = self.input_layer(x)\n",
        "\n",
        "        # Add CLS token and positional encoding\n",
        "        cls_token = self.cls_token.repeat(B, 1, 1)\n",
        "        x = torch.cat([cls_token, x], dim=1)\n",
        "\n",
        "        x = x + self.pos_embedding[:,:T+1]\n",
        "\n",
        "        # Apply Transforrmer\n",
        "        x = self.dropout(x)\n",
        "        x = x.transpose(0, 1)\n",
        "        x = self.transformer(x)\n",
        "\n",
        "        # Perform classification prediction\n",
        "        cls = x[0]\n",
        "        out = self.mlp_head(cls)\n",
        "        return out"
      ],
      "metadata": {
        "id": "A_ndpREwmsJa"
      },
      "execution_count": 34,
      "outputs": []
    },
    {
      "cell_type": "markdown",
      "source": [
        "### Train Model"
      ],
      "metadata": {
        "id": "t9zaaRXaGOmt"
      }
    },
    {
      "cell_type": "code",
      "source": [
        "embed_dim= 256\n",
        "hidden_dim=512\n",
        "num_heads= 8\n",
        "num_layers=6\n",
        "patch_size=4\n",
        "num_channels=1\n",
        "num_patches=64\n",
        "num_classes=10\n",
        "dropout=0.2\n",
        "model=VisionTransformer( embed_dim= embed_dim, hidden_dim=hidden_dim, num_channels=num_channels, num_heads=num_heads, num_layers=num_layers, num_classes=num_classes, patch_size=patch_size, num_patches=num_patches, dropout=dropout)"
      ],
      "metadata": {
        "colab": {
          "base_uri": "https://localhost:8080/"
        },
        "id": "vcO0VItnm2MI",
        "outputId": "74766f34-465c-43b2-ee3a-a352251b6e85"
      },
      "execution_count": 35,
      "outputs": [
        {
          "output_type": "stream",
          "name": "stdout",
          "text": [
            "64\n"
          ]
        }
      ]
    },
    {
      "cell_type": "code",
      "source": [
        "device = torch.device('cuda:0' if torch.cuda.is_available() else 'cpu')\n",
        "model.to(device)\n",
        "device"
      ],
      "metadata": {
        "colab": {
          "base_uri": "https://localhost:8080/"
        },
        "id": "zGbfDQDJm68p",
        "outputId": "b03c094f-d1bb-4dce-b95e-fec1b32d036c"
      },
      "execution_count": 36,
      "outputs": [
        {
          "output_type": "execute_result",
          "data": {
            "text/plain": [
              "device(type='cpu')"
            ]
          },
          "metadata": {},
          "execution_count": 36
        }
      ]
    },
    {
      "cell_type": "code",
      "source": [
        "lr=3e-4\n",
        "criterion = nn.CrossEntropyLoss()\n",
        "optimizer = optim.AdamW(model.parameters(), lr=lr)\n",
        "scheduler = ExponentialLR(optimizer, gamma=0.9)"
      ],
      "metadata": {
        "id": "o1A7McP6nWxZ"
      },
      "execution_count": 37,
      "outputs": []
    },
    {
      "cell_type": "markdown",
      "source": [
        "Even 1 epoch for training takes long time. You can skip the training here and import the pre-trained model following the instruction below."
      ],
      "metadata": {
        "id": "JtFBY-3mGal_"
      }
    },
    {
      "cell_type": "code",
      "source": [
        "'''\n",
        "useful_stuff = {'training_loss': [], 'validation_accuracy': []}\n",
        "correct_old=0\n",
        "\n",
        "for epoch in tqdm(range(100)):  # loop over the dataset multiple times\n",
        "\n",
        "    running_loss = 0.0\n",
        "    for i, data in enumerate(train_loader):\n",
        "        # get the inputs; data is a list of [inputs, labels]\n",
        "        inputs, labels = data[0].to(device), data[1].to(device)\n",
        "\n",
        "        # zero the parameter gradients\n",
        "        optimizer.zero_grad()\n",
        "\n",
        "        # forward + backward + optimize\n",
        "        model.train()\n",
        "        outputs = model(inputs)\n",
        "\n",
        "        loss = criterion(outputs, labels)\n",
        "        loss.backward()\n",
        "        optimizer.step()\n",
        "\n",
        "        # print statistics\n",
        "        running_loss += loss.item()\n",
        "\n",
        "        if i % 2000 == 1999:    # print every 2000 mini-batches\n",
        "            print(f'[{epoch + 1}, {i + 1:5d}] loss: {running_loss / 2000:.3f}')\n",
        "            running_loss = 0.0\n",
        "    scheduler.step()\n",
        "    useful_stuff['training_loss'].append(running_loss)\n",
        "    correct = 0\n",
        "    model.eval()\n",
        "\n",
        "    for inputs, labels in test_loader:\n",
        "      inputs, labels = inputs.to(device), labels.to(device)\n",
        "      z = model(inputs)\n",
        "      _, yhat = torch.max(z, 1)\n",
        "      correct += (yhat == labels).sum().item()\n",
        "      if correct>correct_old:\n",
        "          correct_old=correct\n",
        "\n",
        "    useful_stuff['validation_accuracy'].append(correct_old/len(test_set))\n",
        "print('Finished Training')\n",
        "'''"
      ],
      "metadata": {
        "colab": {
          "base_uri": "https://localhost:8080/",
          "height": 226
        },
        "id": "FMkb-9W8nriC",
        "outputId": "60aec017-b7b8-41fb-ce19-581861a3a3d6"
      },
      "execution_count": 38,
      "outputs": [
        {
          "output_type": "execute_result",
          "data": {
            "text/plain": [
              "\"\\nuseful_stuff = {'training_loss': [], 'validation_accuracy': []}\\ncorrect_old=0\\n\\nfor epoch in tqdm(range(100)):  # loop over the dataset multiple times\\n\\n    running_loss = 0.0\\n    for i, data in enumerate(train_loader):\\n        # get the inputs; data is a list of [inputs, labels]\\n        inputs, labels = data[0].to(device), data[1].to(device)\\n\\n        # zero the parameter gradients\\n        optimizer.zero_grad()\\n\\n        # forward + backward + optimize\\n        model.train()\\n        outputs = model(inputs)\\n\\n        loss = criterion(outputs, labels)\\n        loss.backward()\\n        optimizer.step()\\n\\n        # print statistics\\n        running_loss += loss.item()\\n\\n        if i % 2000 == 1999:    # print every 2000 mini-batches\\n            print(f'[{epoch + 1}, {i + 1:5d}] loss: {running_loss / 2000:.3f}')\\n            running_loss = 0.0\\n    scheduler.step()\\n    useful_stuff['training_loss'].append(running_loss)\\n    correct = 0\\n    model.eval()\\n\\n    for inputs, labels in test_loader:\\n      inputs, labels = inputs.to(device), labels.to(device)\\n      z = model(inputs)\\n      _, yhat = torch.max(z, 1)\\n      correct += (yhat == labels).sum().item()\\n      if correct>correct_old:\\n          correct_old=correct\\n\\n    useful_stuff['validation_accuracy'].append(correct_old/len(test_set))\\nprint('Finished Training')\\n\""
            ],
            "application/vnd.google.colaboratory.intrinsic+json": {
              "type": "string"
            }
          },
          "metadata": {},
          "execution_count": 38
        }
      ]
    },
    {
      "cell_type": "markdown",
      "source": [
        "### Loading Pre-trained model"
      ],
      "metadata": {
        "id": "tEsNz-9kGi-4"
      }
    },
    {
      "cell_type": "code",
      "source": [
        "dataset_url=\"https://cf-courses-data.s3.us.cloud-object-storage.appdomain.cloud/IBMSkillsNetwork-GPXX0CLHEN/gray_5_blocks_v2.pt\"\n",
        "dataset_path = \"./gray_5_blocks_v2.pt\"\n",
        "await skillsnetwork.prepare(dataset_url, overwrite=True)"
      ],
      "metadata": {
        "id": "q30MIYKjntc5",
        "colab": {
          "base_uri": "https://localhost:8080/",
          "height": 34,
          "referenced_widgets": [
            "bf8f2c71a1634e84b1c22f26fcee5727",
            "6601b16c0f5947399355fadb19086537",
            "ca4728d3ca194204963517f64f468e59",
            "287c59784e2f436483eeb4c972eeb91b",
            "fc37e1404379468ca8bdba93afd89f02",
            "89d03dea48b9426796325508fbc16770",
            "fc3a415a80a74cc186532689458402ef",
            "c2d37fb95ff54adf83553bc04d0073b9",
            "c98ec93a7c984bf6b34f83e7c1f7be3b",
            "697097f74d654cbd9f7dbdb95e79faeb",
            "156a79fd80434c59847f57c20b92eea7",
            "734d972ae9084a8192609feba2d04e07",
            "414155e3ee834a5c97cb5c9d7d9036c5",
            "89d8a649e3e34c24af0b375cb11f30a3",
            "67a8dd4a970b47a79e063d3e764bb215",
            "0d79cd2f2ab04aaa81c9be078b817dce",
            "6353f699811b4e54800ae33e1385fbc2",
            "fb445a60e9434fa3a53732079cdd6754",
            "ba8893e1e83c4f16a08c61f88bc4e647",
            "afe4dbdfb36846cdaa0930e294716d71",
            "eb574f42ec24431e9bd9b69f5f9245b8",
            "d52f76b288fa480c87cf6d1961827223"
          ]
        },
        "outputId": "40ef87d2-a4c6-45cf-c119-fd815b73996f"
      },
      "execution_count": 39,
      "outputs": [
        {
          "output_type": "display_data",
          "data": {
            "text/plain": [
              "Downloading gray_5_blocks_v2.pt:   0%|          | 0/12776737 [00:00<?, ?it/s]"
            ],
            "application/vnd.jupyter.widget-view+json": {
              "version_major": 2,
              "version_minor": 0,
              "model_id": "bf8f2c71a1634e84b1c22f26fcee5727"
            }
          },
          "metadata": {}
        },
        {
          "output_type": "display_data",
          "data": {
            "text/plain": [
              "  0%|          | 0/82 [00:00<?, ?it/s]"
            ],
            "application/vnd.jupyter.widget-view+json": {
              "version_major": 2,
              "version_minor": 0,
              "model_id": "734d972ae9084a8192609feba2d04e07"
            }
          },
          "metadata": {}
        },
        {
          "output_type": "stream",
          "name": "stdout",
          "text": [
            "Saved to '.'\n"
          ]
        }
      ]
    },
    {
      "cell_type": "code",
      "source": [
        "model.load_state_dict(torch.load('gray_5_blocks_v2.pt',map_location=device))\n",
        "model.eval()"
      ],
      "metadata": {
        "colab": {
          "base_uri": "https://localhost:8080/"
        },
        "id": "eaV87r1RoAPp",
        "outputId": "a9a640c2-1661-49d3-d32a-e2f02c5f12f8"
      },
      "execution_count": 40,
      "outputs": [
        {
          "output_type": "execute_result",
          "data": {
            "text/plain": [
              "VisionTransformer(\n",
              "  (input_layer): Linear(in_features=16, out_features=256, bias=True)\n",
              "  (transformer): Sequential(\n",
              "    (0): AttentionBlock(\n",
              "      (layer_norm_1): LayerNorm((256,), eps=1e-05, elementwise_affine=True)\n",
              "      (attn): MultiheadAttention(\n",
              "        (out_proj): NonDynamicallyQuantizableLinear(in_features=256, out_features=256, bias=True)\n",
              "      )\n",
              "      (layer_norm_2): LayerNorm((256,), eps=1e-05, elementwise_affine=True)\n",
              "      (linear): Sequential(\n",
              "        (0): Linear(in_features=256, out_features=512, bias=True)\n",
              "        (1): GELU(approximate='none')\n",
              "        (2): Dropout(p=0.2, inplace=False)\n",
              "        (3): Linear(in_features=512, out_features=256, bias=True)\n",
              "        (4): Dropout(p=0.2, inplace=False)\n",
              "      )\n",
              "    )\n",
              "    (1): AttentionBlock(\n",
              "      (layer_norm_1): LayerNorm((256,), eps=1e-05, elementwise_affine=True)\n",
              "      (attn): MultiheadAttention(\n",
              "        (out_proj): NonDynamicallyQuantizableLinear(in_features=256, out_features=256, bias=True)\n",
              "      )\n",
              "      (layer_norm_2): LayerNorm((256,), eps=1e-05, elementwise_affine=True)\n",
              "      (linear): Sequential(\n",
              "        (0): Linear(in_features=256, out_features=512, bias=True)\n",
              "        (1): GELU(approximate='none')\n",
              "        (2): Dropout(p=0.2, inplace=False)\n",
              "        (3): Linear(in_features=512, out_features=256, bias=True)\n",
              "        (4): Dropout(p=0.2, inplace=False)\n",
              "      )\n",
              "    )\n",
              "    (2): AttentionBlock(\n",
              "      (layer_norm_1): LayerNorm((256,), eps=1e-05, elementwise_affine=True)\n",
              "      (attn): MultiheadAttention(\n",
              "        (out_proj): NonDynamicallyQuantizableLinear(in_features=256, out_features=256, bias=True)\n",
              "      )\n",
              "      (layer_norm_2): LayerNorm((256,), eps=1e-05, elementwise_affine=True)\n",
              "      (linear): Sequential(\n",
              "        (0): Linear(in_features=256, out_features=512, bias=True)\n",
              "        (1): GELU(approximate='none')\n",
              "        (2): Dropout(p=0.2, inplace=False)\n",
              "        (3): Linear(in_features=512, out_features=256, bias=True)\n",
              "        (4): Dropout(p=0.2, inplace=False)\n",
              "      )\n",
              "    )\n",
              "    (3): AttentionBlock(\n",
              "      (layer_norm_1): LayerNorm((256,), eps=1e-05, elementwise_affine=True)\n",
              "      (attn): MultiheadAttention(\n",
              "        (out_proj): NonDynamicallyQuantizableLinear(in_features=256, out_features=256, bias=True)\n",
              "      )\n",
              "      (layer_norm_2): LayerNorm((256,), eps=1e-05, elementwise_affine=True)\n",
              "      (linear): Sequential(\n",
              "        (0): Linear(in_features=256, out_features=512, bias=True)\n",
              "        (1): GELU(approximate='none')\n",
              "        (2): Dropout(p=0.2, inplace=False)\n",
              "        (3): Linear(in_features=512, out_features=256, bias=True)\n",
              "        (4): Dropout(p=0.2, inplace=False)\n",
              "      )\n",
              "    )\n",
              "    (4): AttentionBlock(\n",
              "      (layer_norm_1): LayerNorm((256,), eps=1e-05, elementwise_affine=True)\n",
              "      (attn): MultiheadAttention(\n",
              "        (out_proj): NonDynamicallyQuantizableLinear(in_features=256, out_features=256, bias=True)\n",
              "      )\n",
              "      (layer_norm_2): LayerNorm((256,), eps=1e-05, elementwise_affine=True)\n",
              "      (linear): Sequential(\n",
              "        (0): Linear(in_features=256, out_features=512, bias=True)\n",
              "        (1): GELU(approximate='none')\n",
              "        (2): Dropout(p=0.2, inplace=False)\n",
              "        (3): Linear(in_features=512, out_features=256, bias=True)\n",
              "        (4): Dropout(p=0.2, inplace=False)\n",
              "      )\n",
              "    )\n",
              "    (5): AttentionBlock(\n",
              "      (layer_norm_1): LayerNorm((256,), eps=1e-05, elementwise_affine=True)\n",
              "      (attn): MultiheadAttention(\n",
              "        (out_proj): NonDynamicallyQuantizableLinear(in_features=256, out_features=256, bias=True)\n",
              "      )\n",
              "      (layer_norm_2): LayerNorm((256,), eps=1e-05, elementwise_affine=True)\n",
              "      (linear): Sequential(\n",
              "        (0): Linear(in_features=256, out_features=512, bias=True)\n",
              "        (1): GELU(approximate='none')\n",
              "        (2): Dropout(p=0.2, inplace=False)\n",
              "        (3): Linear(in_features=512, out_features=256, bias=True)\n",
              "        (4): Dropout(p=0.2, inplace=False)\n",
              "      )\n",
              "    )\n",
              "  )\n",
              "  (mlp_head): Sequential(\n",
              "    (0): LayerNorm((256,), eps=1e-05, elementwise_affine=True)\n",
              "    (1): Linear(in_features=256, out_features=10, bias=True)\n",
              "  )\n",
              "  (dropout): Dropout(p=0.2, inplace=False)\n",
              ")"
            ]
          },
          "metadata": {},
          "execution_count": 40
        }
      ]
    },
    {
      "cell_type": "code",
      "source": [
        "it=iter(test_loader)\n",
        "images= next(it)"
      ],
      "metadata": {
        "id": "tJiR6yFL_wXj"
      },
      "execution_count": 41,
      "outputs": []
    },
    {
      "cell_type": "markdown",
      "source": [
        "The **<code>activations</code>** list  is used to store the activation values obtained from specific layers of the model. These **<code>activations</code>** are then passed as input to the **<code>plot_patchs_lables()</code>** function for visualization purposes."
      ],
      "metadata": {
        "id": "cXzROc6_IGUa"
      }
    },
    {
      "cell_type": "code",
      "source": [
        "number_samples = 100\n",
        "\n",
        "# Create a random input tensor\n",
        "input_tensor = images[0:number_samples][0]\n",
        "input_labels = images[0:number_samples][1]\n",
        "\n",
        "# Define a list to store the activation values\n",
        "activations = []\n",
        "\n",
        "# Define a custom activation hook function\n",
        "def activation_hook(module, input, output):\n",
        "    activations.append(output.detach())"
      ],
      "metadata": {
        "id": "lwi3IO7C_04D"
      },
      "execution_count": 42,
      "outputs": []
    },
    {
      "cell_type": "code",
      "source": [
        "# Iterate over all the modules in the network\n",
        "for module in model.modules():\n",
        "    # Register the activation hook to the desired layers\n",
        "    if isinstance(module, nn.Linear):\n",
        "        module.register_forward_hook(activation_hook)\n",
        "\n",
        "with torch.no_grad():\n",
        "    output = model(input_tensor)"
      ],
      "metadata": {
        "id": "GxHqv5xa_5Ci"
      },
      "execution_count": 43,
      "outputs": []
    },
    {
      "cell_type": "markdown",
      "source": [
        "**NOTE**: The plotting takes around ~19 minutes per iteration, and there will be 6 iterations. Therefore, I am adding the images I have stored on my local disk. You can skip running the cell below.\n"
      ],
      "metadata": {
        "id": "f8uiz2WzJ8oM"
      }
    },
    {
      "cell_type": "code",
      "source": [
        "'''activation_new = 0\n",
        "for i, activation in enumerate(activations):\n",
        "    if activation.shape[-1] == 256:\n",
        "        if activation.shape[0] != 1:\n",
        "            activation_new = torch.permute(activation, (1, 0, 2))\n",
        "        else:\n",
        "            activation_new = activation\n",
        "\n",
        "    if i % 5 == 0:\n",
        "        print(i)\n",
        "        plot_patchs_lables(activation_new, input_labels, label=True, p_show=0)\n",
        "        plt.show() '''"
      ],
      "metadata": {
        "id": "D6C4UHdaBDDg",
        "colab": {
          "base_uri": "https://localhost:8080/",
          "height": 104
        },
        "outputId": "0efbe725-ef43-4c0c-8baf-d0347fe0ce41"
      },
      "execution_count": 44,
      "outputs": [
        {
          "output_type": "execute_result",
          "data": {
            "text/plain": [
              "'activation_new = 0\\nfor i, activation in enumerate(activations):\\n    if activation.shape[-1] == 256:\\n        if activation.shape[0] != 1:\\n            activation_new = torch.permute(activation, (1, 0, 2))\\n        else:\\n            activation_new = activation\\n\\n    if i % 5 == 0:\\n        print(i)\\n        plot_patchs_lables(activation_new, input_labels, label=True, p_show=0)\\n        plt.show() '"
            ],
            "application/vnd.google.colaboratory.intrinsic+json": {
              "type": "string"
            }
          },
          "metadata": {},
          "execution_count": 44
        }
      ]
    },
    {
      "cell_type": "markdown",
      "source": [
        "Again, the iterator is used to get images and labels"
      ],
      "metadata": {
        "id": "gm9QF9EPIcdU"
      }
    },
    {
      "cell_type": "code",
      "source": [
        "it=iter(test_loader)\n",
        "images, labels= next(it)"
      ],
      "metadata": {
        "id": "nrVC0VMVIa-U"
      },
      "execution_count": 45,
      "outputs": []
    },
    {
      "cell_type": "markdown",
      "source": [
        "## Output for the model\n",
        "\n",
        "Lets classify the image using the output of the model\n",
        "\n",
        "#### Softmax\n",
        "Let's say the model's output raw scores for an input example are the input neural network: $$\\text{Raw scores} = [3.2, 2.1, 1.5]$$\n",
        "\n",
        "To calculate the softmax probabilities, we apply the softmax function to these raw scores:\n",
        "\n",
        "$$\n",
        "\\text{softmax}([3.2, 2.1, 1.5]) = \\left[ \\frac{e^{3.2}}{e^{3.2} + e^{2.1} + e^{1.5}}, \\frac{e^{2.1}}{e^{3.2} + e^{2.1} + e^{1.5}}, \\frac{e^{1.5}}{e^{3.2} + e^{2.1} + e^{1.5}} \\right]\n",
        "$$\n",
        "\n",
        "\n",
        "Now, let's calculate the softmax values:\n",
        "\n",
        "$$\\text{softmax}([3.2, 2.1, 1.5]) ≈ [0.533, 0.278, 0.189]$$\n",
        "\n",
        "**In our case, the same principle is applied to the MNIST dataset, where each class from 0 to 9 is assigned a probability value. The label with the highest probability value is selected as the predicted label.**\n",
        "\n",
        "\n",
        "#### Argmax\n",
        "\n",
        "The **<code>argmax()</code>** function is a mathematical function that returns the index of the maximum value in a tensor or array along a specified axis. In the context of the code snippet provided, **<code>argmax(dim=1)</code>** is used to find the index of the class with the highest probability for each image.\n"
      ],
      "metadata": {
        "id": "3G62lzEjIw_e"
      }
    },
    {
      "cell_type": "code",
      "source": [
        "# Only 3 images are selected\n",
        "images = images[:3]\n",
        "labels = labels[:3]\n",
        "\n",
        "p_yx = model(images)\n",
        "\n",
        "# Get predicted probabilities\n",
        "probabilities = F.softmax(p_yx, dim=1)\n",
        "\n",
        "# Find predicted labels\n",
        "predicted_labels = probabilities.argmax(dim=1)\n",
        "\n",
        "# Compare predicted labels with actual labels and display the images\n",
        "for i in range(len(images)):\n",
        "    # Convert the image tensor to a numpy array\n",
        "    image = images[i].squeeze().numpy()\n",
        "\n",
        "    # Display the image in grayscale\n",
        "    plt.imshow(image, cmap='gray')\n",
        "    plt.axis('off')\n",
        "    plt.show()\n",
        "\n",
        "    print(\"Predicted label:\", predicted_labels[i])\n",
        "    print(\"Actual label:\", labels[i])\n",
        "    print(\"Probabilities:\")\n",
        "\n",
        "    # Print probabilities for each class\n",
        "    for j in range(len(probabilities[i])):\n",
        "        class_name = f\"Class {j}\"\n",
        "        probability = probabilities[i][j].item()\n",
        "        print(f\"{class_name}: {probability}\")\n",
        "\n",
        "    print()"
      ],
      "metadata": {
        "colab": {
          "base_uri": "https://localhost:8080/",
          "height": 1000
        },
        "id": "ACph2t-tIfWm",
        "outputId": "50dc2c5c-bd96-4646-9ff3-cfdfab553968"
      },
      "execution_count": 46,
      "outputs": [
        {
          "output_type": "display_data",
          "data": {
            "text/plain": [
              "<Figure size 640x480 with 1 Axes>"
            ],
            "image/png": "[encoded data removed]"
          },
          "metadata": {}
        },
        {
          "output_type": "stream",
          "name": "stdout",
          "text": [
            "Predicted label: tensor(0)\n",
            "Actual label: tensor(5)\n",
            "Probabilities:\n",
            "Class 0: 0.32820001244544983\n",
            "Class 1: 0.12643222510814667\n",
            "Class 2: 0.11613333970308304\n",
            "Class 3: 0.050452567636966705\n",
            "Class 4: 0.07450912147760391\n",
            "Class 5: 0.06858613342046738\n",
            "Class 6: 0.03782457858324051\n",
            "Class 7: 0.04885426163673401\n",
            "Class 8: 0.06136994808912277\n",
            "Class 9: 0.08763781934976578\n",
            "\n"
          ]
        },
        {
          "output_type": "display_data",
          "data": {
            "text/plain": [
              "<Figure size 640x480 with 1 Axes>"
            ],
            "image/png": "[encoded data removed]"
          },
          "metadata": {}
        },
        {
          "output_type": "stream",
          "name": "stdout",
          "text": [
            "Predicted label: tensor(0)\n",
            "Actual label: tensor(7)\n",
            "Probabilities:\n",
            "Class 0: 0.3087839186191559\n",
            "Class 1: 0.14620450139045715\n",
            "Class 2: 0.11649982631206512\n",
            "Class 3: 0.05082470923662186\n",
            "Class 4: 0.07270834594964981\n",
            "Class 5: 0.06579183787107468\n",
            "Class 6: 0.03944515436887741\n",
            "Class 7: 0.0498688705265522\n",
            "Class 8: 0.05469215661287308\n",
            "Class 9: 0.0951806828379631\n",
            "\n"
          ]
        },
        {
          "output_type": "display_data",
          "data": {
            "text/plain": [
              "<Figure size 640x480 with 1 Axes>"
            ],
            "image/png": "[encoded data removed]"
          },
          "metadata": {}
        },
        {
          "output_type": "stream",
          "name": "stdout",
          "text": [
            "Predicted label: tensor(0)\n",
            "Actual label: tensor(2)\n",
            "Probabilities:\n",
            "Class 0: 0.31103241443634033\n",
            "Class 1: 0.14460352063179016\n",
            "Class 2: 0.11797168105840683\n",
            "Class 3: 0.053396813571453094\n",
            "Class 4: 0.07198859006166458\n",
            "Class 5: 0.06417770683765411\n",
            "Class 6: 0.039095330983400345\n",
            "Class 7: 0.048574890941381454\n",
            "Class 8: 0.054786089807748795\n",
            "Class 9: 0.09437301009893417\n",
            "\n"
          ]
        }
      ]
    }
  ]
}